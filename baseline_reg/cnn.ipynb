{
 "cells": [
  {
   "cell_type": "code",
   "execution_count": 10,
   "metadata": {},
   "outputs": [],
   "source": [
    "import tensorflow as tf\n",
    "import pandas as pd\n",
    "import numpy as np\n",
    "import matplotlib.pyplot as plt\n",
    "import os\n",
    "\n",
    "from tensorflow.keras.models import Sequential\n",
    "from tensorflow.keras.layers import Dense, Conv2D, Flatten, Dropout, MaxPooling2D\n",
    "from tensorflow.keras.preprocessing.image import ImageDataGenerator\n",
    "from PIL import Image, ImageFile\n",
    "\n",
    "#This is to handle corrupted images\n",
    "ImageFile.LOAD_TRUNCATED_IMAGES = True"
   ]
  },
  {
   "cell_type": "code",
   "execution_count": 2,
   "metadata": {
    "scrolled": true
   },
   "outputs": [
    {
     "name": "stdout",
     "output_type": "stream",
     "text": [
      "number of training images:  9600\n",
      "number of test images:  1200\n"
     ]
    },
    {
     "data": {
      "text/html": [
       "<div>\n",
       "<style scoped>\n",
       "    .dataframe tbody tr th:only-of-type {\n",
       "        vertical-align: middle;\n",
       "    }\n",
       "\n",
       "    .dataframe tbody tr th {\n",
       "        vertical-align: top;\n",
       "    }\n",
       "\n",
       "    .dataframe thead th {\n",
       "        text-align: right;\n",
       "    }\n",
       "</style>\n",
       "<table border=\"1\" class=\"dataframe\">\n",
       "  <thead>\n",
       "    <tr style=\"text-align: right;\">\n",
       "      <th></th>\n",
       "      <th>Id</th>\n",
       "      <th>Actual</th>\n",
       "    </tr>\n",
       "  </thead>\n",
       "  <tbody>\n",
       "    <tr>\n",
       "      <th>9264</th>\n",
       "      <td>1002900.png</td>\n",
       "      <td>2.631728</td>\n",
       "    </tr>\n",
       "    <tr>\n",
       "      <th>3920</th>\n",
       "      <td>1003620.png</td>\n",
       "      <td>1.560731</td>\n",
       "    </tr>\n",
       "    <tr>\n",
       "      <th>6953</th>\n",
       "      <td>1005208.png</td>\n",
       "      <td>3.137059</td>\n",
       "    </tr>\n",
       "    <tr>\n",
       "      <th>7129</th>\n",
       "      <td>1005849.png</td>\n",
       "      <td>3.509851</td>\n",
       "    </tr>\n",
       "    <tr>\n",
       "      <th>2528</th>\n",
       "      <td>1006237.png</td>\n",
       "      <td>1.371129</td>\n",
       "    </tr>\n",
       "    <tr>\n",
       "      <th>...</th>\n",
       "      <td>...</td>\n",
       "      <td>...</td>\n",
       "    </tr>\n",
       "    <tr>\n",
       "      <th>7083</th>\n",
       "      <td>9997019.png</td>\n",
       "      <td>1.561584</td>\n",
       "    </tr>\n",
       "    <tr>\n",
       "      <th>8160</th>\n",
       "      <td>9997923.png</td>\n",
       "      <td>3.291464</td>\n",
       "    </tr>\n",
       "    <tr>\n",
       "      <th>2776</th>\n",
       "      <td>9998327.png</td>\n",
       "      <td>0.971399</td>\n",
       "    </tr>\n",
       "    <tr>\n",
       "      <th>5146</th>\n",
       "      <td>9998462.png</td>\n",
       "      <td>1.890028</td>\n",
       "    </tr>\n",
       "    <tr>\n",
       "      <th>4739</th>\n",
       "      <td>9999837.png</td>\n",
       "      <td>0.000839</td>\n",
       "    </tr>\n",
       "  </tbody>\n",
       "</table>\n",
       "<p>9600 rows × 2 columns</p>\n",
       "</div>"
      ],
      "text/plain": [
       "               Id    Actual\n",
       "9264  1002900.png  2.631728\n",
       "3920  1003620.png  1.560731\n",
       "6953  1005208.png  3.137059\n",
       "7129  1005849.png  3.509851\n",
       "2528  1006237.png  1.371129\n",
       "...           ...       ...\n",
       "7083  9997019.png  1.561584\n",
       "8160  9997923.png  3.291464\n",
       "2776  9998327.png  0.971399\n",
       "5146  9998462.png  1.890028\n",
       "4739  9999837.png  0.000839\n",
       "\n",
       "[9600 rows x 2 columns]"
      ]
     },
     "execution_count": 2,
     "metadata": {},
     "output_type": "execute_result"
    }
   ],
   "source": [
    "#Nesting the directory because of the way the generator works\n",
    "data_dir = os.path.join('..', 'data', 'scored')\n",
    "labels_dir = os.path.join('..', 'data', 'scored.csv')\n",
    "test_dir = os.path.join('.', 'data', 'val')\n",
    "\n",
    "#This is used later with the batch size\n",
    "num_train_imgs = len(os.listdir(data_dir))\n",
    "num_test_imgs = len(os.listdir(os.path.join(test_dir,'query')))\n",
    "\n",
    "#Just checking that no images are lost on the way\n",
    "print(\"number of training images: \", num_train_imgs)\n",
    "print(\"number of test images: \", num_test_imgs)\n",
    "\n",
    "#Getting the indices in order of appearance from the directory and adding png for the generator\n",
    "scores_df = pd.read_csv(labels_dir)\n",
    "scores_df.reset_index(drop=True, inplace=True)\n",
    "scores_df = scores_df.sort_values(by=['Id'])\n",
    "scores_df['Id'] = scores_df['Id'].astype(str)+'.png'\n",
    "scores_df"
   ]
  },
  {
   "cell_type": "code",
   "execution_count": 111,
   "metadata": {},
   "outputs": [],
   "source": [
    "#Setting parameters\n",
    "batch_size = 128\n",
    "epochs = 15\n",
    "IMG_HEIGHT = 250\n",
    "IMG_WIDTH = 250"
   ]
  },
  {
   "cell_type": "code",
   "execution_count": 104,
   "metadata": {},
   "outputs": [],
   "source": [
    "#scaling values to get intensity between 0 and 1\n",
    "train_image_generator = ImageDataGenerator(rescale=1./255) # Generator for our training data\n",
    "validation_image_generator = ImageDataGenerator(rescale=1./255) # Generator for our validation data"
   ]
  },
  {
   "cell_type": "code",
   "execution_count": 112,
   "metadata": {},
   "outputs": [
    {
     "name": "stdout",
     "output_type": "stream",
     "text": [
      "Found 9600 validated image filenames.\n"
     ]
    }
   ],
   "source": [
    "#Generator for our training data, it's being pulled from the dataframe\n",
    "train_data_gen = train_image_generator.flow_from_dataframe(dataframe=scores_df, directory=data_dir, \n",
    "                                              x_col=\"Id\", y_col=\"Actual\", has_ext=True, \n",
    "                                              class_mode=\"other\", target_size=(IMG_WIDTH, IMG_HEIGHT), \n",
    "                                              batch_size=batch_size)"
   ]
  },
  {
   "cell_type": "code",
   "execution_count": 113,
   "metadata": {},
   "outputs": [
    {
     "name": "stdout",
     "output_type": "stream",
     "text": [
      "Found 1200 images belonging to 1 classes.\n"
     ]
    }
   ],
   "source": [
    "#Generator for our query, this is the one that needs the directory to be nested\n",
    "val_data_gen = validation_image_generator.flow_from_directory(batch_size=batch_size,\n",
    "                                                              directory=test_dir,\n",
    "                                                              target_size=(IMG_HEIGHT, IMG_WIDTH))"
   ]
  },
  {
   "cell_type": "code",
   "execution_count": 114,
   "metadata": {},
   "outputs": [],
   "source": [
    "model = Sequential([\n",
    "    Conv2D(16, 3, padding='same', activation='relu', input_shape=(IMG_HEIGHT, IMG_WIDTH ,3)),\n",
    "    MaxPooling2D(),\n",
    "    Conv2D(32, 3, padding='same', activation='relu'),\n",
    "    MaxPooling2D(),\n",
    "    Conv2D(64, 3, padding='same', activation='relu'),\n",
    "    MaxPooling2D(),\n",
    "    Flatten(),\n",
    "    Dense(512, activation='relu'),\n",
    "    Dense(1, activation=\"linear\")\n",
    "])"
   ]
  },
  {
   "cell_type": "code",
   "execution_count": 115,
   "metadata": {},
   "outputs": [],
   "source": [
    "model.compile(loss='MAE', optimizer='adam', metrics=['MSE'])"
   ]
  },
  {
   "cell_type": "code",
   "execution_count": 116,
   "metadata": {},
   "outputs": [
    {
     "name": "stdout",
     "output_type": "stream",
     "text": [
      "Epoch 1/15\n",
      "75/75 [==============================] - 221s 3s/step - loss: 0.7018 - MSE: 1.1763\n",
      "Epoch 2/15\n",
      "75/75 [==============================] - 216s 3s/step - loss: 0.6126 - MSE: 0.8146\n",
      "Epoch 3/15\n",
      "75/75 [==============================] - 208s 3s/step - loss: 0.5656 - MSE: 0.7341\n",
      "Epoch 4/15\n",
      "75/75 [==============================] - 201s 3s/step - loss: 0.5458 - MSE: 0.6939\n",
      "Epoch 5/15\n",
      "75/75 [==============================] - 204s 3s/step - loss: 0.4843 - MSE: 0.5764\n",
      "Epoch 6/15\n",
      "75/75 [==============================] - 209s 3s/step - loss: 0.4412 - MSE: 0.4906\n",
      "Epoch 7/15\n",
      "75/75 [==============================] - 210s 3s/step - loss: 0.3913 - MSE: 0.4030\n",
      "Epoch 8/15\n",
      "75/75 [==============================] - 210s 3s/step - loss: 0.3323 - MSE: 0.3093\n",
      "Epoch 9/15\n",
      "75/75 [==============================] - 210s 3s/step - loss: 0.3129 - MSE: 0.2638\n",
      "Epoch 10/15\n",
      "75/75 [==============================] - 123s 2s/step - loss: 0.2722 - MSE: 0.2065\n",
      "Epoch 11/15\n",
      "75/75 [==============================] - 58s 774ms/step - loss: 0.2393 - MSE: 0.1606\n",
      "Epoch 12/15\n",
      "75/75 [==============================] - 58s 773ms/step - loss: 0.2148 - MSE: 0.1323\n",
      "Epoch 13/15\n",
      "75/75 [==============================] - 62s 830ms/step - loss: 0.2019 - MSE: 0.1136\n",
      "Epoch 14/15\n",
      "75/75 [==============================] - 58s 776ms/step - loss: 0.1854 - MSE: 0.0976\n",
      "Epoch 15/15\n",
      "75/75 [==============================] - 59s 781ms/step - loss: 0.1766 - MSE: 0.0868\n"
     ]
    }
   ],
   "source": [
    "#Training\n",
    "history = model.fit_generator(\n",
    "    train_data_gen,\n",
    "    steps_per_epoch=num_train_imgs // batch_size,\n",
    "    epochs=epochs\n",
    ")"
   ]
  },
  {
   "cell_type": "code",
   "execution_count": 117,
   "metadata": {},
   "outputs": [
    {
     "data": {
      "image/png": "[encoded data removed]",
      "text/plain": [
       "<Figure size 576x576 with 2 Axes>"
      ]
     },
     "metadata": {
      "needs_background": "light"
     },
     "output_type": "display_data"
    }
   ],
   "source": [
    "#Pulling some pretty graphs for training\n",
    "\n",
    "acc = history.history['MSE']\n",
    "\n",
    "loss=history.history['loss']\n",
    "\n",
    "epochs_range = range(epochs)\n",
    "\n",
    "plt.figure(figsize=(8, 8))\n",
    "plt.subplot(1, 2, 1)\n",
    "plt.plot(epochs_range, acc, label='Training Accuracy')\n",
    "plt.legend(loc='lower right')\n",
    "plt.title('Training Accuracy')\n",
    "\n",
    "plt.subplot(1, 2, 2)\n",
    "plt.plot(epochs_range, loss, label='Training Loss')\n",
    "plt.legend(loc='upper right')\n",
    "plt.title('Training Loss')\n",
    "plt.show()"
   ]
  },
  {
   "cell_type": "code",
   "execution_count": 118,
   "metadata": {},
   "outputs": [
    {
     "name": "stdout",
     "output_type": "stream",
     "text": [
      "10/10 [==============================] - 29s 3s/step\n"
     ]
    },
    {
     "data": {
      "text/plain": [
       "array([[ 1.4703966 ],\n",
       "       [ 1.2740372 ],\n",
       "       [ 3.6399853 ],\n",
       "       ...,\n",
       "       [ 1.2997241 ],\n",
       "       [-0.12104338],\n",
       "       [ 2.3406813 ]], dtype=float32)"
      ]
     },
     "execution_count": 118,
     "metadata": {},
     "output_type": "execute_result"
    }
   ],
   "source": [
    "#Getting predictions\n",
    "predictions = model.predict(val_data_gen, verbose=1)\n",
    "predictions"
   ]
  },
  {
   "cell_type": "code",
   "execution_count": 119,
   "metadata": {},
   "outputs": [
    {
     "data": {
      "text/html": [
       "<div>\n",
       "<style scoped>\n",
       "    .dataframe tbody tr th:only-of-type {\n",
       "        vertical-align: middle;\n",
       "    }\n",
       "\n",
       "    .dataframe tbody tr th {\n",
       "        vertical-align: top;\n",
       "    }\n",
       "\n",
       "    .dataframe thead th {\n",
       "        text-align: right;\n",
       "    }\n",
       "</style>\n",
       "<table border=\"1\" class=\"dataframe\">\n",
       "  <thead>\n",
       "    <tr style=\"text-align: right;\">\n",
       "      <th></th>\n",
       "      <th>Id</th>\n",
       "      <th>Predicted</th>\n",
       "    </tr>\n",
       "  </thead>\n",
       "  <tbody>\n",
       "    <tr>\n",
       "      <th>0</th>\n",
       "      <td>1000956</td>\n",
       "      <td>1.470397</td>\n",
       "    </tr>\n",
       "    <tr>\n",
       "      <th>1</th>\n",
       "      <td>1007209</td>\n",
       "      <td>1.274037</td>\n",
       "    </tr>\n",
       "    <tr>\n",
       "      <th>2</th>\n",
       "      <td>1016681</td>\n",
       "      <td>3.639985</td>\n",
       "    </tr>\n",
       "    <tr>\n",
       "      <th>3</th>\n",
       "      <td>1043763</td>\n",
       "      <td>2.592883</td>\n",
       "    </tr>\n",
       "    <tr>\n",
       "      <th>4</th>\n",
       "      <td>1051472</td>\n",
       "      <td>-0.004365</td>\n",
       "    </tr>\n",
       "    <tr>\n",
       "      <th>...</th>\n",
       "      <td>...</td>\n",
       "      <td>...</td>\n",
       "    </tr>\n",
       "    <tr>\n",
       "      <th>1195</th>\n",
       "      <td>9962129</td>\n",
       "      <td>1.487415</td>\n",
       "    </tr>\n",
       "    <tr>\n",
       "      <th>1196</th>\n",
       "      <td>9968166</td>\n",
       "      <td>2.620377</td>\n",
       "    </tr>\n",
       "    <tr>\n",
       "      <th>1197</th>\n",
       "      <td>9972585</td>\n",
       "      <td>1.299724</td>\n",
       "    </tr>\n",
       "    <tr>\n",
       "      <th>1198</th>\n",
       "      <td>9981103</td>\n",
       "      <td>-0.121043</td>\n",
       "    </tr>\n",
       "    <tr>\n",
       "      <th>1199</th>\n",
       "      <td>9997253</td>\n",
       "      <td>2.340681</td>\n",
       "    </tr>\n",
       "  </tbody>\n",
       "</table>\n",
       "<p>1200 rows × 2 columns</p>\n",
       "</div>"
      ],
      "text/plain": [
       "           Id  Predicted\n",
       "0     1000956   1.470397\n",
       "1     1007209   1.274037\n",
       "2     1016681   3.639985\n",
       "3     1043763   2.592883\n",
       "4     1051472  -0.004365\n",
       "...       ...        ...\n",
       "1195  9962129   1.487415\n",
       "1196  9968166   2.620377\n",
       "1197  9972585   1.299724\n",
       "1198  9981103  -0.121043\n",
       "1199  9997253   2.340681\n",
       "\n",
       "[1200 rows x 2 columns]"
      ]
     },
     "execution_count": 119,
     "metadata": {},
     "output_type": "execute_result"
    }
   ],
   "source": [
    "#Putting predictions in a pretty dataframe\n",
    "predictions_file_ids = [x.replace('.png', '') for x in os.listdir(os.path.join(test_dir,'query'))]\n",
    "results = {'Id': predictions_file_ids, 'Predicted': predictions.reshape(-1)}\n",
    "results = pd.DataFrame(data=results)\n",
    "results"
   ]
  },
  {
   "cell_type": "code",
   "execution_count": 120,
   "metadata": {},
   "outputs": [
    {
     "data": {
      "text/html": [
       "<div>\n",
       "<style scoped>\n",
       "    .dataframe tbody tr th:only-of-type {\n",
       "        vertical-align: middle;\n",
       "    }\n",
       "\n",
       "    .dataframe tbody tr th {\n",
       "        vertical-align: top;\n",
       "    }\n",
       "\n",
       "    .dataframe thead th {\n",
       "        text-align: right;\n",
       "    }\n",
       "</style>\n",
       "<table border=\"1\" class=\"dataframe\">\n",
       "  <thead>\n",
       "    <tr style=\"text-align: right;\">\n",
       "      <th></th>\n",
       "      <th>Id</th>\n",
       "      <th>Predicted</th>\n",
       "    </tr>\n",
       "  </thead>\n",
       "  <tbody>\n",
       "    <tr>\n",
       "      <th>0</th>\n",
       "      <td>7452475</td>\n",
       "      <td>0.554526</td>\n",
       "    </tr>\n",
       "    <tr>\n",
       "      <th>1</th>\n",
       "      <td>7071865</td>\n",
       "      <td>-0.001394</td>\n",
       "    </tr>\n",
       "    <tr>\n",
       "      <th>2</th>\n",
       "      <td>9302616</td>\n",
       "      <td>1.569059</td>\n",
       "    </tr>\n",
       "    <tr>\n",
       "      <th>3</th>\n",
       "      <td>7562317</td>\n",
       "      <td>1.131097</td>\n",
       "    </tr>\n",
       "    <tr>\n",
       "      <th>4</th>\n",
       "      <td>5940084</td>\n",
       "      <td>1.850995</td>\n",
       "    </tr>\n",
       "    <tr>\n",
       "      <th>...</th>\n",
       "      <td>...</td>\n",
       "      <td>...</td>\n",
       "    </tr>\n",
       "    <tr>\n",
       "      <th>1195</th>\n",
       "      <td>9022030</td>\n",
       "      <td>1.510219</td>\n",
       "    </tr>\n",
       "    <tr>\n",
       "      <th>1196</th>\n",
       "      <td>2640528</td>\n",
       "      <td>1.830043</td>\n",
       "    </tr>\n",
       "    <tr>\n",
       "      <th>1197</th>\n",
       "      <td>1114602</td>\n",
       "      <td>1.561953</td>\n",
       "    </tr>\n",
       "    <tr>\n",
       "      <th>1198</th>\n",
       "      <td>6934039</td>\n",
       "      <td>1.749473</td>\n",
       "    </tr>\n",
       "    <tr>\n",
       "      <th>1199</th>\n",
       "      <td>3616311</td>\n",
       "      <td>1.467995</td>\n",
       "    </tr>\n",
       "  </tbody>\n",
       "</table>\n",
       "<p>1200 rows × 2 columns</p>\n",
       "</div>"
      ],
      "text/plain": [
       "           Id  Predicted\n",
       "0     7452475   0.554526\n",
       "1     7071865  -0.001394\n",
       "2     9302616   1.569059\n",
       "3     7562317   1.131097\n",
       "4     5940084   1.850995\n",
       "...       ...        ...\n",
       "1195  9022030   1.510219\n",
       "1196  2640528   1.830043\n",
       "1197  1114602   1.561953\n",
       "1198  6934039   1.749473\n",
       "1199  3616311   1.467995\n",
       "\n",
       "[1200 rows x 2 columns]"
      ]
     },
     "execution_count": 120,
     "metadata": {},
     "output_type": "execute_result"
    }
   ],
   "source": [
    "#Preparing output for the kaggle submission\n",
    "query_ex_path = os.path.join('..', 'data', 'query_example.csv')\n",
    "query_ex = pd.read_csv(query_ex_path)\n",
    "query_ex = query_ex.iloc[:,[0]]\n",
    "\n",
    "query_ex = query_ex.astype(str)\n",
    "results['Id'].astype(str)\n",
    "\n",
    "query_preds = pd.merge(query_ex, results, on=['Id'])\n",
    "\n",
    "query_preds.to_csv('out.csv', index=False)\n",
    "query_preds"
   ]
  }
 ],
 "metadata": {
  "kernelspec": {
   "display_name": "tf2_gpu",
   "language": "python",
   "name": "tf2_gpu"
  },
  "language_info": {
   "codemirror_mode": {
    "name": "ipython",
    "version": 3
   },
   "file_extension": ".py",
   "mimetype": "text/x-python",
   "name": "python",
   "nbconvert_exporter": "python",
   "pygments_lexer": "ipython3",
   "version": "3.6.9"
  }
 },
 "nbformat": 4,
 "nbformat_minor": 2
}
