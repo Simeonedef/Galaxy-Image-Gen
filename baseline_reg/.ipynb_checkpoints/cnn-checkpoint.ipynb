{
 "cells": [
  {
   "cell_type": "code",
   "execution_count": 177,
   "metadata": {},
   "outputs": [],
   "source": [
    "import tensorflow as tf\n",
    "import pandas as pd\n",
    "import numpy as np\n",
    "import matplotlib.pyplot as plt\n",
    "import os\n",
    "\n",
    "from tensorflow.keras.models import Sequential\n",
    "from tensorflow.keras.layers import Dense, Conv2D, Flatten, Dropout, MaxPooling2D, BatchNormalization, Average, MaxPooling1D\n",
    "from tensorflow.keras.preprocessing.image import ImageDataGenerator\n",
    "from tensorflow.keras import regularizers\n",
    "from tensorflow.keras import optimizers\n",
    "from PIL import Image, ImageFile\n",
    "\n",
    "from tensorflow.keras import backend as K\n",
    "from tqdm import tqdm\n",
    "\n",
    "#This is to handle corrupted images\n",
    "ImageFile.LOAD_TRUNCATED_IMAGES = True"
   ]
  },
  {
   "cell_type": "code",
   "execution_count": 146,
   "metadata": {
    "scrolled": true
   },
   "outputs": [
    {
     "name": "stdout",
     "output_type": "stream",
     "text": [
      "number of training images:  9600\n",
      "number of test images:  1200\n"
     ]
    },
    {
     "data": {
      "text/html": [
       "<div>\n",
       "<style scoped>\n",
       "    .dataframe tbody tr th:only-of-type {\n",
       "        vertical-align: middle;\n",
       "    }\n",
       "\n",
       "    .dataframe tbody tr th {\n",
       "        vertical-align: top;\n",
       "    }\n",
       "\n",
       "    .dataframe thead th {\n",
       "        text-align: right;\n",
       "    }\n",
       "</style>\n",
       "<table border=\"1\" class=\"dataframe\">\n",
       "  <thead>\n",
       "    <tr style=\"text-align: right;\">\n",
       "      <th></th>\n",
       "      <th>Id</th>\n",
       "      <th>Predicted</th>\n",
       "    </tr>\n",
       "  </thead>\n",
       "  <tbody>\n",
       "    <tr>\n",
       "      <th>0</th>\n",
       "      <td>7452475.png</td>\n",
       "      <td>0.0</td>\n",
       "    </tr>\n",
       "    <tr>\n",
       "      <th>1</th>\n",
       "      <td>7071865.png</td>\n",
       "      <td>0.0</td>\n",
       "    </tr>\n",
       "    <tr>\n",
       "      <th>2</th>\n",
       "      <td>9302616.png</td>\n",
       "      <td>0.0</td>\n",
       "    </tr>\n",
       "    <tr>\n",
       "      <th>3</th>\n",
       "      <td>7562317.png</td>\n",
       "      <td>0.0</td>\n",
       "    </tr>\n",
       "    <tr>\n",
       "      <th>4</th>\n",
       "      <td>5940084.png</td>\n",
       "      <td>0.0</td>\n",
       "    </tr>\n",
       "    <tr>\n",
       "      <th>...</th>\n",
       "      <td>...</td>\n",
       "      <td>...</td>\n",
       "    </tr>\n",
       "    <tr>\n",
       "      <th>1195</th>\n",
       "      <td>9022030.png</td>\n",
       "      <td>0.0</td>\n",
       "    </tr>\n",
       "    <tr>\n",
       "      <th>1196</th>\n",
       "      <td>2640528.png</td>\n",
       "      <td>0.0</td>\n",
       "    </tr>\n",
       "    <tr>\n",
       "      <th>1197</th>\n",
       "      <td>1114602.png</td>\n",
       "      <td>0.0</td>\n",
       "    </tr>\n",
       "    <tr>\n",
       "      <th>1198</th>\n",
       "      <td>6934039.png</td>\n",
       "      <td>0.0</td>\n",
       "    </tr>\n",
       "    <tr>\n",
       "      <th>1199</th>\n",
       "      <td>3616311.png</td>\n",
       "      <td>0.0</td>\n",
       "    </tr>\n",
       "  </tbody>\n",
       "</table>\n",
       "<p>1200 rows × 2 columns</p>\n",
       "</div>"
      ],
      "text/plain": [
       "               Id  Predicted\n",
       "0     7452475.png        0.0\n",
       "1     7071865.png        0.0\n",
       "2     9302616.png        0.0\n",
       "3     7562317.png        0.0\n",
       "4     5940084.png        0.0\n",
       "...           ...        ...\n",
       "1195  9022030.png        0.0\n",
       "1196  2640528.png        0.0\n",
       "1197  1114602.png        0.0\n",
       "1198  6934039.png        0.0\n",
       "1199  3616311.png        0.0\n",
       "\n",
       "[1200 rows x 2 columns]"
      ]
     },
     "execution_count": 146,
     "metadata": {},
     "output_type": "execute_result"
    }
   ],
   "source": [
    "#Nesting the directory because of the way the generator works\n",
    "data_dir = os.path.join('..', 'data', 'scored')\n",
    "labels_dir = os.path.join('..', 'data', 'scored.csv')\n",
    "test_dir = os.path.join('..', 'data', 'query')\n",
    "\n",
    "#This is used later with the batch size\n",
    "num_train_imgs = len(os.listdir(data_dir))\n",
    "num_test_imgs = len(os.listdir(test_dir))\n",
    "\n",
    "#Just checking that no images are lost on the way\n",
    "print(\"number of training images: \", num_train_imgs)\n",
    "print(\"number of test images: \", num_test_imgs)\n",
    "\n",
    "eval_df = pd.read_csv(os.path.join('..', 'data', 'query_example.csv'))\n",
    "scores_df.reset_index(drop=True, inplace=True)\n",
    "eval_df['Id'] = eval_df['Id'].astype(str)+'.png'\n",
    "\n",
    "#Getting the indices in order of appearance from the directory and adding png for the generator\n",
    "scores_df = pd.read_csv(labels_dir)\n",
    "scores_df.reset_index(drop=True, inplace=True)\n",
    "scores_df = scores_df.sort_values(by=['Id'])\n",
    "scores_df['Id'] = scores_df['Id'].astype(str)+'.png'\n",
    "eval_df"
   ]
  },
  {
   "cell_type": "code",
   "execution_count": 115,
   "metadata": {},
   "outputs": [],
   "source": [
    "#Setting parameters\n",
    "batch_size = 128\n",
    "epochs = 25\n",
    "IMG_HEIGHT = 150\n",
    "IMG_WIDTH = 150\n",
    "conv_layer_sizes = [16,32,64]\n",
    "dense_layer_size = 10\n",
    "dropout=0.2\n",
    "l2_reg=0.01\n",
    "val_split = 0.25\n",
    "learning_rate = 1e-3\n",
    "batch_norm=True"
   ]
  },
  {
   "cell_type": "code",
   "execution_count": 26,
   "metadata": {},
   "outputs": [],
   "source": [
    "#scaling values to get intensity between 0 and 1\n",
    "train_image_generator = ImageDataGenerator(rescale=1./255, validation_split=val_split) # Generator for our training data\n",
    "validation_image_generator = ImageDataGenerator(rescale=1./255) # Generator for our validation data"
   ]
  },
  {
   "cell_type": "code",
   "execution_count": 27,
   "metadata": {},
   "outputs": [
    {
     "name": "stdout",
     "output_type": "stream",
     "text": [
      "Found 7200 validated image filenames.\n",
      "Found 2400 validated image filenames.\n",
      "Found 9600 validated image filenames.\n"
     ]
    }
   ],
   "source": [
    "#Generator for our training data, it's being pulled from the dataframe\n",
    "train_data_gen = train_image_generator.flow_from_dataframe(dataframe=scores_df, directory=data_dir, \n",
    "                                              x_col=\"Id\", y_col=\"Actual\", has_ext=True, \n",
    "                                              class_mode=\"other\", target_size=(IMG_WIDTH, IMG_HEIGHT), \n",
    "                                              batch_size=batch_size, subset='training')\n",
    "\n",
    "test_data_gen = train_image_generator.flow_from_dataframe(dataframe=scores_df, directory=data_dir, \n",
    "                                              x_col=\"Id\", y_col=\"Actual\", has_ext=True, \n",
    "                                              class_mode=\"other\", target_size=(IMG_WIDTH, IMG_HEIGHT), \n",
    "                                              batch_size=batch_size, subset='validation')\n",
    "\n",
    "full_train_data_gen = train_image_generator.flow_from_dataframe(dataframe=scores_df, directory=data_dir, \n",
    "                                              x_col=\"Id\", y_col=\"Actual\", has_ext=True, \n",
    "                                              class_mode=\"other\", target_size=(IMG_WIDTH, IMG_HEIGHT), \n",
    "                                              batch_size=batch_size)"
   ]
  },
  {
   "cell_type": "code",
   "execution_count": 148,
   "metadata": {},
   "outputs": [
    {
     "name": "stdout",
     "output_type": "stream",
     "text": [
      "Found 1200 validated image filenames.\n"
     ]
    }
   ],
   "source": [
    "#Generator for our query\n",
    "val_data_gen = validation_image_generator.flow_from_dataframe(batch_size=1, dataframe=eval_df, x_col=\"Id\",\n",
    "                                                              directory=test_dir, y_col='Predicted', class_mode='other',\n",
    "                                                              target_size=(IMG_HEIGHT, IMG_WIDTH))"
   ]
  },
  {
   "cell_type": "code",
   "execution_count": 119,
   "metadata": {},
   "outputs": [],
   "source": [
    "model = Sequential()\n",
    "\n",
    "for dim in conv_layer_sizes:\n",
    "    model.add(Conv2D(dim, 3,padding='same', activation='relu', input_shape=(IMG_HEIGHT, IMG_WIDTH ,3) ))\n",
    "    model.add(MaxPooling2D())\n",
    "    if batch_norm:\n",
    "        model.add(BatchNormalization())\n",
    "    model.add(Dropout(dropout))\n",
    "    \n",
    "model.add(Flatten())\n",
    "model.add(Dense(dense_layer_size, activation='relu', kernel_regularizer=regularizers.l2(l2_reg)))\n",
    "if batch_norm:\n",
    "    model.add(BatchNormalization())\n",
    "model.add(Dropout(dropout))\n",
    "model.add(Dense(1, activation='linear'))"
   ]
  },
  {
   "cell_type": "code",
   "execution_count": 132,
   "metadata": {},
   "outputs": [],
   "source": [
    "opt = optimizers.Adam(learning_rate)\n",
    "model.compile(loss='MSE', optimizer=opt, metrics=['MAE'])"
   ]
  },
  {
   "cell_type": "code",
   "execution_count": 121,
   "metadata": {
    "scrolled": true
   },
   "outputs": [
    {
     "name": "stdout",
     "output_type": "stream",
     "text": [
      "Epoch 1/25\n",
      "56/56 [==============================] - 14s 251ms/step - loss: 4.0349 - MAE: 1.6041 - val_loss: 5.1668 - val_MAE: 1.9173\n",
      "Epoch 2/25\n",
      "56/56 [==============================] - 13s 230ms/step - loss: 3.2266 - MAE: 1.3836 - val_loss: 5.0766 - val_MAE: 1.9011\n",
      "Epoch 3/25\n",
      "56/56 [==============================] - 13s 225ms/step - loss: 2.6638 - MAE: 1.2262 - val_loss: 4.1322 - val_MAE: 1.6526\n",
      "Epoch 4/25\n",
      "56/56 [==============================] - 11s 204ms/step - loss: 2.0706 - MAE: 1.0413 - val_loss: 5.5570 - val_MAE: 2.0078\n",
      "Epoch 5/25\n",
      "56/56 [==============================] - 14s 242ms/step - loss: 1.6962 - MAE: 0.8986 - val_loss: 5.1230 - val_MAE: 1.9177\n",
      "Epoch 6/25\n",
      "56/56 [==============================] - 11s 205ms/step - loss: 1.6443 - MAE: 0.8927 - val_loss: 6.2003 - val_MAE: 2.1635\n",
      "Epoch 7/25\n",
      "56/56 [==============================] - 12s 210ms/step - loss: 1.4272 - MAE: 0.8212 - val_loss: 4.3720 - val_MAE: 1.7538\n",
      "Epoch 8/25\n",
      "56/56 [==============================] - 11s 200ms/step - loss: 1.3286 - MAE: 0.8083 - val_loss: 6.7980 - val_MAE: 2.2324\n",
      "Epoch 9/25\n",
      "56/56 [==============================] - 14s 255ms/step - loss: 1.2322 - MAE: 0.7732 - val_loss: 4.7420 - val_MAE: 1.7996\n",
      "Epoch 10/25\n",
      "56/56 [==============================] - 12s 208ms/step - loss: 1.0937 - MAE: 0.7290 - val_loss: 2.8826 - val_MAE: 1.3337\n",
      "Epoch 11/25\n",
      "56/56 [==============================] - 12s 223ms/step - loss: 1.1382 - MAE: 0.7571 - val_loss: 3.8586 - val_MAE: 1.5846\n",
      "Epoch 12/25\n",
      "56/56 [==============================] - 12s 213ms/step - loss: 1.1677 - MAE: 0.7561 - val_loss: 1.2829 - val_MAE: 0.9045\n",
      "Epoch 13/25\n",
      "56/56 [==============================] - 14s 242ms/step - loss: 1.1182 - MAE: 0.7538 - val_loss: 1.2376 - val_MAE: 0.8657\n",
      "Epoch 14/25\n",
      "56/56 [==============================] - 12s 217ms/step - loss: 1.0843 - MAE: 0.7342 - val_loss: 1.0239 - val_MAE: 0.6891\n",
      "Epoch 15/25\n",
      "56/56 [==============================] - 12s 217ms/step - loss: 1.0746 - MAE: 0.7409 - val_loss: 6.5420 - val_MAE: 2.2376\n",
      "Epoch 16/25\n",
      "56/56 [==============================] - 12s 206ms/step - loss: 1.0706 - MAE: 0.7335 - val_loss: 1.9088 - val_MAE: 1.1530\n",
      "Epoch 17/25\n",
      "56/56 [==============================] - 14s 253ms/step - loss: 0.9938 - MAE: 0.7016 - val_loss: 1.9911 - val_MAE: 1.0584\n",
      "Epoch 18/25\n",
      "56/56 [==============================] - 12s 215ms/step - loss: 1.0075 - MAE: 0.7026 - val_loss: 2.3754 - val_MAE: 1.2164\n",
      "Epoch 19/25\n",
      "56/56 [==============================] - 13s 226ms/step - loss: 1.0523 - MAE: 0.7330 - val_loss: 0.9348 - val_MAE: 0.6631\n",
      "Epoch 20/25\n",
      "56/56 [==============================] - 11s 200ms/step - loss: 0.9423 - MAE: 0.6829 - val_loss: 3.1779 - val_MAE: 1.4967\n",
      "Epoch 21/25\n",
      "56/56 [==============================] - 14s 244ms/step - loss: 0.8945 - MAE: 0.6726 - val_loss: 2.1583 - val_MAE: 1.1327\n",
      "Epoch 22/25\n",
      "56/56 [==============================] - 12s 212ms/step - loss: 1.0022 - MAE: 0.7050 - val_loss: 1.5690 - val_MAE: 1.0080\n",
      "Epoch 23/25\n",
      "56/56 [==============================] - 12s 215ms/step - loss: 0.9537 - MAE: 0.6864 - val_loss: 1.1509 - val_MAE: 0.6986\n",
      "Epoch 24/25\n",
      "56/56 [==============================] - 12s 217ms/step - loss: 0.8913 - MAE: 0.6647 - val_loss: 2.4526 - val_MAE: 1.1667\n",
      "Epoch 25/25\n",
      "56/56 [==============================] - 14s 244ms/step - loss: 0.9351 - MAE: 0.6649 - val_loss: 0.9067 - val_MAE: 0.6324\n"
     ]
    }
   ],
   "source": [
    "#Training\n",
    "history = model.fit_generator(\n",
    "    train_data_gen,\n",
    "    steps_per_epoch=train_data_gen.samples // batch_size,\n",
    "    validation_data= test_data_gen,\n",
    "    validation_steps=test_data_gen.samples//batch_size,\n",
    "    epochs=epochs\n",
    ")"
   ]
  },
  {
   "cell_type": "code",
   "execution_count": 122,
   "metadata": {
    "scrolled": true
   },
   "outputs": [
    {
     "data": {
      "image/png": "[encoded data removed]",
      "text/plain": [
       "<Figure size 576x576 with 2 Axes>"
      ]
     },
     "metadata": {
      "needs_background": "light"
     },
     "output_type": "display_data"
    }
   ],
   "source": [
    "#Pulling some pretty graphs for training\n",
    "\n",
    "acc = history.history['MAE']\n",
    "\n",
    "loss=history.history['loss']\n",
    "\n",
    "val_acc = history.history['val_MAE']\n",
    "\n",
    "val_loss=history.history['val_loss']\n",
    "\n",
    "epochs_range = range(epochs)\n",
    "\n",
    "plt.figure(figsize=(8, 8))\n",
    "plt.subplot(1, 2,1)\n",
    "plt.plot(epochs_range, acc, label='Training Accuracy')\n",
    "plt.legend(loc='lower right')\n",
    "plt.plot(epochs_range, val_acc, label='Val Accuracy')\n",
    "plt.legend(loc='lower right')\n",
    "plt.title('Accuracy')\n",
    "\n",
    "plt.subplot(1, 2,2)\n",
    "plt.plot(epochs_range, loss, label='Training Loss')\n",
    "plt.legend(loc='upper right')\n",
    "plt.plot(epochs_range, val_loss, label='Val Loss')\n",
    "plt.legend(loc='upper right')\n",
    "plt.title('Loss')\n",
    "plt.show()"
   ]
  },
  {
   "cell_type": "code",
   "execution_count": 201,
   "metadata": {
    "scrolled": true
   },
   "outputs": [
    {
     "name": "stdout",
     "output_type": "stream",
     "text": [
      "Epoch 1/25\n",
      "75/75 [==============================] - 39s 525ms/step - loss: 1.3010 - MAE: 0.7277\n",
      "Epoch 2/25\n",
      "75/75 [==============================] - 40s 536ms/step - loss: 0.9828 - MAE: 0.6944\n",
      "Epoch 3/25\n",
      "75/75 [==============================] - 38s 509ms/step - loss: 0.9524 - MAE: 0.6901\n",
      "Epoch 4/25\n",
      "75/75 [==============================] - 39s 520ms/step - loss: 0.9008 - MAE: 0.6793\n",
      "Epoch 5/25\n",
      "75/75 [==============================] - 40s 534ms/step - loss: 0.8908 - MAE: 0.6914\n",
      "Epoch 6/25\n",
      "75/75 [==============================] - 40s 538ms/step - loss: 0.9141 - MAE: 0.6865\n",
      "Epoch 7/25\n",
      "75/75 [==============================] - 39s 523ms/step - loss: 0.8522 - MAE: 0.6726\n",
      "Epoch 8/25\n",
      "75/75 [==============================] - 39s 514ms/step - loss: 0.9133 - MAE: 0.6819\n",
      "Epoch 9/25\n",
      "75/75 [==============================] - 38s 509ms/step - loss: 0.8457 - MAE: 0.6764\n",
      "Epoch 10/25\n",
      "75/75 [==============================] - 38s 506ms/step - loss: 0.8368 - MAE: 0.6601\n",
      "Epoch 11/25\n",
      "75/75 [==============================] - 38s 507ms/step - loss: 0.9059 - MAE: 0.6924\n",
      "Epoch 12/25\n",
      "75/75 [==============================] - 38s 507ms/step - loss: 0.8613 - MAE: 0.6639\n",
      "Epoch 13/25\n",
      "75/75 [==============================] - 38s 508ms/step - loss: 0.8745 - MAE: 0.6711\n",
      "Epoch 14/25\n",
      "75/75 [==============================] - 38s 507ms/step - loss: 0.8378 - MAE: 0.6532\n",
      "Epoch 15/25\n",
      "75/75 [==============================] - 39s 519ms/step - loss: 0.8352 - MAE: 0.6513\n",
      "Epoch 16/25\n",
      "75/75 [==============================] - 38s 504ms/step - loss: 0.8886 - MAE: 0.6758\n",
      "Epoch 17/25\n",
      "75/75 [==============================] - 38s 503ms/step - loss: 0.8872 - MAE: 0.6695\n",
      "Epoch 18/25\n",
      "75/75 [==============================] - 38s 506ms/step - loss: 0.8024 - MAE: 0.6476\n",
      "Epoch 19/25\n",
      "75/75 [==============================] - 39s 522ms/step - loss: 0.8718 - MAE: 0.6724\n",
      "Epoch 20/25\n",
      "75/75 [==============================] - 38s 513ms/step - loss: 0.8330 - MAE: 0.6514\n",
      "Epoch 21/25\n",
      "75/75 [==============================] - 40s 528ms/step - loss: 0.8468 - MAE: 0.6709\n",
      "Epoch 22/25\n",
      "75/75 [==============================] - 38s 505ms/step - loss: 0.8318 - MAE: 0.6642\n",
      "Epoch 23/25\n",
      "75/75 [==============================] - 40s 528ms/step - loss: 0.8261 - MAE: 0.6662\n",
      "Epoch 24/25\n",
      "75/75 [==============================] - 39s 518ms/step - loss: 0.8347 - MAE: 0.6513\n",
      "Epoch 25/25\n",
      "75/75 [==============================] - 40s 535ms/step - loss: 0.8632 - MAE: 0.6617\n"
     ]
    }
   ],
   "source": [
    "#Training on full dataset\n",
    "history = model.fit_generator(\n",
    "    full_train_data_gen,\n",
    "    steps_per_epoch=full_train_data_gen.samples // batch_size,\n",
    "    epochs=epochs\n",
    ")"
   ]
  },
  {
   "cell_type": "code",
   "execution_count": 202,
   "metadata": {},
   "outputs": [
    {
     "name": "stdout",
     "output_type": "stream",
     "text": [
      "1200/1200 [==============================] - 12s 10ms/step\n"
     ]
    },
    {
     "data": {
      "text/plain": [
       "array([[1.8275158],\n",
       "       [1.8302593],\n",
       "       [1.8275838],\n",
       "       ...,\n",
       "       [1.8281729],\n",
       "       [1.828573 ],\n",
       "       [1.8247364]], dtype=float32)"
      ]
     },
     "execution_count": 202,
     "metadata": {},
     "output_type": "execute_result"
    }
   ],
   "source": [
    "#Getting predictions\n",
    "predictions = model.predict(val_data_gen, verbose=1)\n",
    "predictions"
   ]
  },
  {
   "cell_type": "code",
   "execution_count": 203,
   "metadata": {},
   "outputs": [
    {
     "data": {
      "text/html": [
       "<div>\n",
       "<style scoped>\n",
       "    .dataframe tbody tr th:only-of-type {\n",
       "        vertical-align: middle;\n",
       "    }\n",
       "\n",
       "    .dataframe tbody tr th {\n",
       "        vertical-align: top;\n",
       "    }\n",
       "\n",
       "    .dataframe thead th {\n",
       "        text-align: right;\n",
       "    }\n",
       "</style>\n",
       "<table border=\"1\" class=\"dataframe\">\n",
       "  <thead>\n",
       "    <tr style=\"text-align: right;\">\n",
       "      <th></th>\n",
       "      <th>Id</th>\n",
       "      <th>Predicted</th>\n",
       "    </tr>\n",
       "  </thead>\n",
       "  <tbody>\n",
       "    <tr>\n",
       "      <th>0</th>\n",
       "      <td>7452475</td>\n",
       "      <td>1.827516</td>\n",
       "    </tr>\n",
       "    <tr>\n",
       "      <th>1</th>\n",
       "      <td>7071865</td>\n",
       "      <td>1.830259</td>\n",
       "    </tr>\n",
       "    <tr>\n",
       "      <th>2</th>\n",
       "      <td>9302616</td>\n",
       "      <td>1.827584</td>\n",
       "    </tr>\n",
       "    <tr>\n",
       "      <th>3</th>\n",
       "      <td>7562317</td>\n",
       "      <td>1.824348</td>\n",
       "    </tr>\n",
       "    <tr>\n",
       "      <th>4</th>\n",
       "      <td>5940084</td>\n",
       "      <td>1.828182</td>\n",
       "    </tr>\n",
       "    <tr>\n",
       "      <th>...</th>\n",
       "      <td>...</td>\n",
       "      <td>...</td>\n",
       "    </tr>\n",
       "    <tr>\n",
       "      <th>1195</th>\n",
       "      <td>9022030</td>\n",
       "      <td>1.569289</td>\n",
       "    </tr>\n",
       "    <tr>\n",
       "      <th>1196</th>\n",
       "      <td>2640528</td>\n",
       "      <td>1.831532</td>\n",
       "    </tr>\n",
       "    <tr>\n",
       "      <th>1197</th>\n",
       "      <td>1114602</td>\n",
       "      <td>1.828173</td>\n",
       "    </tr>\n",
       "    <tr>\n",
       "      <th>1198</th>\n",
       "      <td>6934039</td>\n",
       "      <td>1.828573</td>\n",
       "    </tr>\n",
       "    <tr>\n",
       "      <th>1199</th>\n",
       "      <td>3616311</td>\n",
       "      <td>1.824736</td>\n",
       "    </tr>\n",
       "  </tbody>\n",
       "</table>\n",
       "<p>1200 rows × 2 columns</p>\n",
       "</div>"
      ],
      "text/plain": [
       "           Id  Predicted\n",
       "0     7452475   1.827516\n",
       "1     7071865   1.830259\n",
       "2     9302616   1.827584\n",
       "3     7562317   1.824348\n",
       "4     5940084   1.828182\n",
       "...       ...        ...\n",
       "1195  9022030   1.569289\n",
       "1196  2640528   1.831532\n",
       "1197  1114602   1.828173\n",
       "1198  6934039   1.828573\n",
       "1199  3616311   1.824736\n",
       "\n",
       "[1200 rows x 2 columns]"
      ]
     },
     "execution_count": 203,
     "metadata": {},
     "output_type": "execute_result"
    }
   ],
   "source": [
    "#Putting predictions in a pretty dataframe\n",
    "#predictions_file_ids = [x.replace('.png', '') for x in os.listdir(os.path.join(test_dir,'query'))]\n",
    "results = {'Id': eval_df['Id'], 'Predicted': predictions.reshape(-1)}\n",
    "results['Id'] = results['Id'].str[:-4]\n",
    "results = pd.DataFrame(data=results)\n",
    "results.to_csv('out.csv', index=False)\n",
    "results\n"
   ]
  }
 ],
 "metadata": {
  "kernelspec": {
   "display_name": "tf2_gpu",
   "language": "python",
   "name": "tf2_gpu"
  },
  "language_info": {
   "codemirror_mode": {
    "name": "ipython",
    "version": 3
   },
   "file_extension": ".py",
   "mimetype": "text/x-python",
   "name": "python",
   "nbconvert_exporter": "python",
   "pygments_lexer": "ipython3",
   "version": "3.6.9"
  }
 },
 "nbformat": 4,
 "nbformat_minor": 2
}
