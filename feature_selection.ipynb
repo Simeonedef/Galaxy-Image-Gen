{
 "cells": [
  {
   "cell_type": "code",
   "execution_count": null,
   "metadata": {},
   "outputs": [],
   "source": [
    "%reload_ext autoreload\n",
    "%autoreload 2\n",
    "import ast\n",
    "import pickle\n",
    "import itertools\n",
    "from collections import Counter\n",
    "from tqdm import tqdm\n",
    "import pandas as pd\n",
    "import os\n",
    "\n",
    "import numpy as np\n",
    "import matplotlib.pyplot as plt\n",
    "from mpl_toolkits.mplot3d import Axes3D\n",
    "import cv2\n",
    "import swifter\n",
    "\n",
    "from analysis.generate_cluster_information_file import load, extract_all_information_query, to_df_query\n",
    "from baseline.image_processing import pixel_intensity_histogram"
   ]
  },
  {
   "cell_type": "code",
   "execution_count": null,
   "metadata": {},
   "outputs": [],
   "source": [
    "df = load()\n",
    "df.head(5)"
   ]
  },
  {
   "cell_type": "code",
   "execution_count": null,
   "metadata": {},
   "outputs": [],
   "source": [
    "# pd saves lists as strings, so we need to convert them to lists manually\n",
    "df.cluster_sizes = df.cluster_sizes.swifter.apply(ast.literal_eval)\n",
    "df.cluster_centers = df.cluster_centers.swifter.apply(ast.literal_eval)\n",
    "df.cluster_peak_intensities = df.cluster_peak_intensities.swifter.apply(ast.literal_eval)\n",
    "df.cluster_num_intensities = df.cluster_num_intensities.swifter.apply(ast.literal_eval)\n",
    "\n",
    "assert type(df.cluster_sizes.tolist()[0]) == list\n",
    "\n",
    "df.head(10)"
   ]
  },
  {
   "cell_type": "code",
   "execution_count": null,
   "metadata": {},
   "outputs": [],
   "source": [
    "df.plot(x='score', y='background_threshold', style='o')"
   ]
  },
  {
   "cell_type": "code",
   "execution_count": null,
   "metadata": {},
   "outputs": [],
   "source": [
    "df.plot(x='score', y='cluster_num', style='o')"
   ]
  },
  {
   "cell_type": "code",
   "execution_count": null,
   "metadata": {},
   "outputs": [],
   "source": [
    "cluster_sizes_avg = np.empty((9600))\n",
    "cluster_peak_intensities_avg = np.empty((9600))\n",
    "cluster_num_intensities_avg = np.empty((9600))\n",
    "\n",
    "for i in tqdm(range(len(df.index))):\n",
    "    c_s = df.iloc[i,3]\n",
    "    c_p_i = df.iloc[i,4]\n",
    "    c_n_i = df.iloc[i,5]\n",
    "    cluster_sizes_avg[i] = np.average(np.array(c_s))\n",
    "    cluster_peak_intensities_avg[i] = np.average(np.array(c_p_i))\n",
    "    cluster_num_intensities_avg[i] = np.average(np.array(c_n_i))"
   ]
  },
  {
   "cell_type": "code",
   "execution_count": null,
   "metadata": {},
   "outputs": [],
   "source": [
    "df_avg = df\n",
    "df_avg['cluster_sizes_avg'] = cluster_sizes_avg\n",
    "df_avg['cluster_peak_intensities_avg'] = cluster_peak_intensities_avg\n",
    "df_avg['cluster_num_intensities_avg'] = cluster_num_intensities_avg\n",
    "df_avg.head()"
   ]
  },
  {
   "cell_type": "code",
   "execution_count": null,
   "metadata": {},
   "outputs": [],
   "source": [
    "df.plot(x='score', y='cluster_num_intensities_avg', style='o')"
   ]
  },
  {
   "cell_type": "code",
   "execution_count": null,
   "metadata": {},
   "outputs": [],
   "source": [
    "df.plot(x='score', y='cluster_num', style='o')"
   ]
  },
  {
   "cell_type": "code",
   "execution_count": null,
   "metadata": {},
   "outputs": [],
   "source": [
    "df.plot(x='score', y='cluster_peak_intensities_avg', style='o')"
   ]
  },
  {
   "cell_type": "code",
   "execution_count": null,
   "metadata": {},
   "outputs": [],
   "source": [
    "df.plot(x='score', y='cluster_sizes_avg', style='o')"
   ]
  },
  {
   "cell_type": "code",
   "execution_count": null,
   "metadata": {},
   "outputs": [],
   "source": [
    "scores = []\n",
    "cluster_x = []\n",
    "cluster_y = []\n",
    "\n",
    "for i in tqdm(range(len(df.index))):\n",
    "    score = df.iloc[i,0]\n",
    "    cluster_num = df.iloc[i,2]\n",
    "    cluster_centers = df.iloc[i,6]\n",
    "    for j in range(cluster_num):\n",
    "        scores.append(score)\n",
    "        (x,y) = cluster_centers[j]\n",
    "        cluster_x.append(x)\n",
    "        cluster_y.append(y)"
   ]
  },
  {
   "cell_type": "code",
   "execution_count": null,
   "metadata": {},
   "outputs": [],
   "source": [
    "scores_sample = []\n",
    "cluster_x_samples = []\n",
    "cluster_y_samples = []\n",
    "\n",
    "for i in tqdm(range(0,len(scores), 100000)):\n",
    "    scores_sample.append(scores[i])\n",
    "    cluster_x_samples.append(cluster_x[i])\n",
    "    cluster_y_samples.append(cluster_y[i])\n",
    "\n",
    "np.array(scores_sample).shape"
   ]
  },
  {
   "cell_type": "code",
   "execution_count": null,
   "metadata": {},
   "outputs": [],
   "source": [
    "scores_avg = np.empty(len(df.index))\n",
    "cluster_x_avg = np.empty(len(df.index))\n",
    "cluster_y_avg = np.empty(len(df.index))\n",
    "\n",
    "for i in tqdm(range(len(df.index))):\n",
    "    scores_avg[i] = df.iloc[i,0]\n",
    "    cluster_num = df.iloc[i,2]\n",
    "    cluster_centers = df.iloc[i,6]\n",
    "    temp_x = np.empty(cluster_num)\n",
    "    temp_y = np.empty(cluster_num)\n",
    "    for j in range(cluster_num):\n",
    "        (x,y) = cluster_centers[j]\n",
    "        temp_x[j] = x \n",
    "        temp_y[j] = y\n",
    "    cluster_x_avg[i] = np.average(temp_x)\n",
    "    cluster_y_avg[i] = np.average(temp_y)"
   ]
  },
  {
   "cell_type": "code",
   "execution_count": null,
   "metadata": {},
   "outputs": [],
   "source": [
    "fig = plt.figure()\n",
    "ax = fig.add_subplot(111,projection='3d')\n",
    "ax.scatter(cluster_x_avg, cluster_y_avg, scores_avg)\n",
    "ax.set_xlabel('cluster_x')\n",
    "ax.set_ylabel('cluster_y')\n",
    "ax.set_zlabel('scores')\n",
    "plt.show()"
   ]
  },
  {
   "cell_type": "code",
   "execution_count": null,
   "metadata": {},
   "outputs": [],
   "source": [
    "fig = plt.figure()\n",
    "ax = fig.add_subplot(111,projection='3d')\n",
    "ax.scatter(cluster_x_samples, cluster_y_samples, scores_sample)\n",
    "ax.set_xlabel('cluster_x')\n",
    "ax.set_ylabel('cluster_y')\n",
    "ax.set_zlabel('scores')\n",
    "plt.show()"
   ]
  },
  {
   "cell_type": "code",
   "execution_count": null,
   "metadata": {},
   "outputs": [],
   "source": [
    "# [cluster_num, cluster_num_intensities_avg, cluster_peak_intensities_avg, cluster_x_avg, cluster_y_avg]\n",
    "\n",
    "train_X = np.empty((len(df.index),5))\n",
    "train_y = scores_avg\n",
    "\n",
    "for i in tqdm(range(len(df.index))):\n",
    "    train_X[i,0] = df.iloc[i,2]\n",
    "    train_X[i, 1] = cluster_num_intensities_avg[i]\n",
    "    train_X[i, 2] = cluster_peak_intensities_avg[i]\n",
    "    train_X[i, 3] = cluster_x_avg[i]\n",
    "    train_X[i, 4] = cluster_y_avg[i]"
   ]
  },
  {
   "cell_type": "code",
   "execution_count": null,
   "metadata": {},
   "outputs": [],
   "source": [
    "df_X = pd.DataFrame(columns=['cluster_num', 'cluster_num_intensities_avg', 'cluster_peak_intensities_avg', 'cluster_x_avg', 'cluster_y_avg'])\n",
    "df_y = pd.DataFrame(columns=['score'])\n",
    "df_X['cluster_num'] = train_X[:,0]\n",
    "df_X['cluster_num_intensities_avg'] = train_X[:,1]\n",
    "df_X['cluster_peak_intensities_avg'] = train_X[:,2]\n",
    "df_X['cluster_x_avg'] = train_X[:,3]\n",
    "df_X['cluster_y_avg'] = train_X[:,4]\n",
    "df_y['score'] = scores_avg\n",
    "\n",
    "df_X.to_csv('train_X.csv', index=False)\n",
    "df_y.to_csv('train_y.csv', index=False)"
   ]
  },
  {
   "cell_type": "markdown",
   "metadata": {},
   "source": [
    "**Preparing data for query**"
   ]
  },
  {
   "cell_type": "code",
   "execution_count": null,
   "metadata": {},
   "outputs": [],
   "source": [
    "test_X = extract_all_information_query(os.path.join('data','query'))"
   ]
  },
  {
   "cell_type": "code",
   "execution_count": null,
   "metadata": {},
   "outputs": [],
   "source": [
    "test_df = to_df_query(test_X)\n",
    "test_df.to_csv('test_df.csv')\n",
    "test_df.head()"
   ]
  }
 ],
 "metadata": {
  "kernelspec": {
   "display_name": "tf2_gpu",
   "language": "python",
   "name": "tf2_gpu"
  },
  "language_info": {
   "codemirror_mode": {
    "name": "ipython",
    "version": 3
   },
   "file_extension": ".py",
   "mimetype": "text/x-python",
   "name": "python",
   "nbconvert_exporter": "python",
   "pygments_lexer": "ipython3",
   "version": "3.6.9"
  }
 },
 "nbformat": 4,
 "nbformat_minor": 2
}
