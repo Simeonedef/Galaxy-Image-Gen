{
 "cells": [
  {
   "cell_type": "code",
   "execution_count": 1,
   "metadata": {
    "colab": {},
    "colab_type": "code",
    "id": "m7YtxMkE8eoB"
   },
   "outputs": [],
   "source": [
    "from __future__ import print_function\n",
    "import argparse\n",
    "import torch\n",
    "import torch.utils.data\n",
    "from torch import nn, optim\n",
    "from torch.nn import functional as F\n",
    "from torchvision import datasets, transforms\n",
    "from torchvision.utils import save_image\n",
    "import torchvision\n",
    "import pandas as pd\n",
    "import os\n",
    "from PIL import Image\n",
    "import numpy as np\n",
    "import matplotlib.pyplot as plt\n",
    "base_dir = \"../../data\"\n",
    "from PIL import ImageFile\n",
    "ImageFile.LOAD_TRUNCATED_IMAGES = True\n",
    "device = torch.device(\"cpu\")\n",
    "batch_size = 64\n",
    "size = (256, 256)\n",
    "image_dir = \"scored\"\n",
    "test_image_dir = \"query\""
   ]
  },
  {
   "cell_type": "code",
   "execution_count": 2,
   "metadata": {
    "colab": {
     "base_uri": "https://localhost:8080/",
     "height": 124
    },
    "colab_type": "code",
    "id": "npj-KBaf8i8Y",
    "outputId": "58fb28a1-4b53-4c6a-f58f-6bede01d846f"
   },
   "outputs": [
    {
     "name": "stdout",
     "output_type": "stream",
     "text": [
      "Go to this URL in a browser: https://accounts.google.com/o/oauth2/auth?client_id=947318989803-6bn6qk8qdgf4n4g3pfee6491hc0brc4i.apps.googleusercontent.com&redirect_uri=urn%3aietf%3awg%3aoauth%3a2.0%3aoob&response_type=code&scope=email%20https%3a%2f%2fwww.googleapis.com%2fauth%2fdocs.test%20https%3a%2f%2fwww.googleapis.com%2fauth%2fdrive%20https%3a%2f%2fwww.googleapis.com%2fauth%2fdrive.photos.readonly%20https%3a%2f%2fwww.googleapis.com%2fauth%2fpeopleapi.readonly\n",
      "\n",
      "Enter your authorization code:\n",
      "··········\n",
      "Mounted at /content/drive\n"
     ]
    }
   ],
   "source": [
    "from google.colab import drive\n",
    "drive.mount('/content/drive')"
   ]
  },
  {
   "cell_type": "code",
   "execution_count": 2,
   "metadata": {
    "colab": {},
    "colab_type": "code",
    "id": "7mUdQqkC-s3d"
   },
   "outputs": [],
   "source": [
    "scores = pd.read_csv(base_dir + \"/scored.csv\", index_col=\"Id\")"
   ]
  },
  {
   "cell_type": "code",
   "execution_count": 4,
   "metadata": {
    "colab": {
     "base_uri": "https://localhost:8080/",
     "height": 316
    },
    "colab_type": "code",
    "id": "1EmuWL6PN-qi",
    "outputId": "e3743df6-a366-45db-8d5f-832910180d39"
   },
   "outputs": [
    {
     "data": {
      "text/plain": [
       "array([[<matplotlib.axes._subplots.AxesSubplot object at 0x7fb7f8feaeb8>]],\n",
       "      dtype=object)"
      ]
     },
     "execution_count": 4,
     "metadata": {
      "tags": []
     },
     "output_type": "execute_result"
    },
    {
     "data": {
      "image/png": "[encoded data removed]",
      "text/plain": [
       "<Figure size 432x288 with 1 Axes>"
      ]
     },
     "metadata": {
      "needs_background": "light",
      "tags": []
     },
     "output_type": "display_data"
    }
   ],
   "source": [
    "scores.hist()"
   ]
  },
  {
   "cell_type": "code",
   "execution_count": 0,
   "metadata": {
    "colab": {},
    "colab_type": "code",
    "id": "lz4m_xnX8lhW"
   },
   "outputs": [],
   "source": [
    "zip_path = base_dir + '/scored_512.zip'\n",
    "!cp '{zip_path}' .\n",
    "!unzip -q scored_512.zip\n",
    "!rm scored_512.zip"
   ]
  },
  {
   "cell_type": "code",
   "execution_count": 0,
   "metadata": {
    "colab": {},
    "colab_type": "code",
    "id": "kbe74GjFNCZ_"
   },
   "outputs": [],
   "source": [
    "zip_path = base_dir + '/query_512.zip'\n",
    "!cp '{zip_path}' .\n",
    "!unzip -q query_512.zip\n",
    "!rm query_512.zip"
   ]
  },
  {
   "cell_type": "code",
   "execution_count": 0,
   "metadata": {
    "colab": {},
    "colab_type": "code",
    "id": "Cv8sntPG-Ade"
   },
   "outputs": [],
   "source": [
    "class GalaxyDataset(torch.utils.data.Dataset):\n",
    "    \"\"\"Galaxy dataset.\"\"\"\n",
    "\n",
    "    def __init__(self, csv_file, image_dir, transform=None, mode='train', size=(128, 128), train_split=0.9):\n",
    "        if mode is \"test\":\n",
    "          self.Ids = []\n",
    "        else:\n",
    "          self.scores = pd.read_csv(csv_file, index_col=\"Id\")\n",
    "\n",
    "        self.size = size\n",
    "        self.samples = []\n",
    "        self.mode = mode\n",
    "        if mode == 'train':\n",
    "          self.scores = self.scores[:int(self.scores.shape[0]*train_split)]\n",
    "        elif mode == 'val':\n",
    "          self.scores = self.scores[int(self.scores.shape[0]*train_split):]\n",
    "        self.image_dir = image_dir\n",
    "        self.transform = transform\n",
    "\n",
    "        self.load_dataset()\n",
    "    def __len__(self):\n",
    "        return len(self.samples)\n",
    "\n",
    "    def load_dataset(self):\n",
    "      print(\"Loading Dataset...\")\n",
    "      if self.mode == 'test':\n",
    "        for img_name in os.listdir(self.image_dir):\n",
    "          if img_name[-3:] == 'png':\n",
    "            self.samples.append(Image.open(os.path.join(self.image_dir, img_name)).resize(self.size))\n",
    "            self.Ids.append(img_name[:-4])\n",
    "      else:\n",
    "        for id, _ in self.scores.iterrows():\n",
    "          img_name = os.path.join(self.image_dir,\n",
    "                                    str(id)+'.png')\n",
    "          self.samples.append(Image.open(img_name).resize(self.size))\n",
    "      print(\"Dataset Loaded\")\n",
    "\n",
    "    def __getitem__(self, idx):\n",
    "\n",
    "        if torch.is_tensor(idx):\n",
    "            idx = idx.tolist()\n",
    "\n",
    "        image = self.samples[idx]\n",
    "        if self.mode == 'test':\n",
    "          return self.transform(image)\n",
    "\n",
    "        scores = self.scores.iloc[idx]['Actual']\n",
    "        scores = (scores / 4.0) - 1\n",
    "        if self.transform is not None:\n",
    "            image = self.transform(image)\n",
    "\n",
    "        return (image, scores)"
   ]
  },
  {
   "cell_type": "code",
   "execution_count": 0,
   "metadata": {
    "colab": {},
    "colab_type": "code",
    "id": "KqDcVbMB_v1A"
   },
   "outputs": [],
   "source": [
    "train_transformation = torchvision.transforms.Compose([\n",
    "                            torchvision.transforms.RandomAffine(30, translate=(0.2, 0.2)),\n",
    "                            torchvision.transforms.ToTensor()\n",
    "])\n",
    "val_transformation = torchvision.transforms.Compose([\n",
    "                            torchvision.transforms.ToTensor()\n",
    "])\n",
    "test_transformation = torchvision.transforms.Compose([\n",
    "                            torchvision.transforms.ToTensor()\n",
    "])"
   ]
  },
  {
   "cell_type": "code",
   "execution_count": 16,
   "metadata": {
    "colab": {
     "base_uri": "https://localhost:8080/",
     "height": 121
    },
    "colab_type": "code",
    "id": "k2ibTgEW_xoE",
    "outputId": "007d1f01-1868-482b-8cf8-53cec4436521"
   },
   "outputs": [
    {
     "name": "stdout",
     "output_type": "stream",
     "text": [
      "Loading Dataset...\n",
      "Dataset Loaded\n",
      "Loading Dataset...\n",
      "Dataset Loaded\n",
      "Loading Dataset...\n",
      "Dataset Loaded\n"
     ]
    }
   ],
   "source": [
    "train_dataset = GalaxyDataset(base_dir + \"/scored.csv\", image_dir, transform=train_transformation, mode='train', size=size)\n",
    "val_dataset = GalaxyDataset(base_dir + \"/scored.csv\", image_dir, transform=val_transformation, mode='val', size=size)\n",
    "test_dataset = GalaxyDataset(\"\", test_image_dir, transform=val_transformation, mode='test', size=size)\n",
    "train_loader = torch.utils.data.DataLoader(train_dataset, batch_size=batch_size, num_workers=1, pin_memory=True, shuffle=True)\n",
    "val_loader = torch.utils.data.DataLoader(val_dataset, batch_size=batch_size, num_workers=1, pin_memory=True)\n",
    "test_loader = torch.utils.data.DataLoader(test_dataset, batch_size=batch_size, num_workers=1, pin_memory=True)"
   ]
  },
  {
   "cell_type": "code",
   "execution_count": 17,
   "metadata": {
    "colab": {
     "base_uri": "https://localhost:8080/",
     "height": 287
    },
    "colab_type": "code",
    "id": "rOSlpnDdOSVg",
    "outputId": "a85cb4a4-8865-49e0-e4e3-4ebc71b8b689"
   },
   "outputs": [
    {
     "data": {
      "text/plain": [
       "<matplotlib.image.AxesImage at 0x7fb7f80fef98>"
      ]
     },
     "execution_count": 17,
     "metadata": {
      "tags": []
     },
     "output_type": "execute_result"
    },
    {
     "data": {
      "image/png": "[encoded data removed]",
      "text/plain": [
       "<Figure size 432x288 with 1 Axes>"
      ]
     },
     "metadata": {
      "needs_background": "light",
      "tags": []
     },
     "output_type": "display_data"
    }
   ],
   "source": [
    "plt.imshow(train_dataset[23][0].numpy().squeeze(), cmap=\"gray\", vmin=0, vmax=1)"
   ]
  },
  {
   "cell_type": "code",
   "execution_count": 0,
   "metadata": {
    "colab": {
     "base_uri": "https://localhost:8080/",
     "height": 399
    },
    "colab_type": "code",
    "id": "JHWYNx0QAB8E",
    "outputId": "39aa111a-5eef-49f4-be82-0cfbccb37969"
   },
   "outputs": [
    {
     "name": "stdout",
     "output_type": "stream",
     "text": [
      "Train Epoch: 61 [0/8640 (0%)]\tLoss: 0.001946\n",
      "Train Epoch: 61 [320/8640 (4%)]\tLoss: 0.002218\n",
      "Train Epoch: 61 [640/8640 (7%)]\tLoss: 0.001749\n",
      "Train Epoch: 61 [960/8640 (11%)]\tLoss: 0.001711\n",
      "Train Epoch: 61 [1280/8640 (15%)]\tLoss: 0.002404\n",
      "Train Epoch: 61 [1600/8640 (19%)]\tLoss: 0.001640\n",
      "Train Epoch: 61 [1920/8640 (22%)]\tLoss: 0.002209\n",
      "Train Epoch: 61 [2240/8640 (26%)]\tLoss: 0.001894\n",
      "Train Epoch: 61 [2560/8640 (30%)]\tLoss: 0.001765\n",
      "Train Epoch: 61 [2880/8640 (33%)]\tLoss: 0.001674\n",
      "Train Epoch: 61 [3200/8640 (37%)]\tLoss: 0.001681\n",
      "Train Epoch: 61 [3520/8640 (41%)]\tLoss: 0.002107\n",
      "Train Epoch: 61 [3840/8640 (44%)]\tLoss: 0.001690\n",
      "Train Epoch: 61 [4160/8640 (48%)]\tLoss: 0.001948\n",
      "Train Epoch: 61 [4480/8640 (52%)]\tLoss: 0.001492\n",
      "Train Epoch: 61 [4800/8640 (56%)]\tLoss: 0.001658\n",
      "Train Epoch: 61 [5120/8640 (59%)]\tLoss: 0.001829\n",
      "Train Epoch: 61 [5440/8640 (63%)]\tLoss: 0.001595\n",
      "Train Epoch: 61 [5760/8640 (67%)]\tLoss: 0.001625\n",
      "Train Epoch: 61 [6080/8640 (70%)]\tLoss: 0.001250\n",
      "Train Epoch: 61 [6400/8640 (74%)]\tLoss: 0.001521\n",
      "Train Epoch: 61 [6720/8640 (78%)]\tLoss: 0.001731\n"
     ]
    }
   ],
   "source": [
    "class Scorer(nn.Module):\n",
    "    def __init__(self):\n",
    "        super(Scorer, self).__init__()\n",
    "\n",
    "        self.conv1 = nn.Conv2d(1, 64, 3, stride=2, padding=1)\n",
    "        self.conv1_1 = nn.Conv2d(64, 64, 3, stride=1, padding=1)\n",
    "        self.conv2 = nn.Conv2d(64, 128, 3, stride=2, padding=1)\n",
    "        self.conv2_1 = nn.Conv2d(128, 128, 3, stride=1, padding=1)\n",
    "        self.conv3 = nn.Conv2d(128, 256, 3, stride=2, padding=1)\n",
    "        self.conv3_1 = nn.Conv2d(256, 256, 3, stride=1, padding=1)\n",
    "        self.conv4 = nn.Conv2d(256, 256, 3, stride=2, padding=1)\n",
    "        self.conv4_1 = nn.Conv2d(256, 256, 3, stride=1, padding=1)\n",
    "        # self.conv5 = nn.Conv2d(256, 512, 3, stride=2, padding=1)\n",
    "        # self.conv5_1 = nn.Conv2d(512, 512, 3, stride=1, padding=1)\n",
    "        # self.conv6 = nn.Conv2d(512, 512, 3, stride=2, padding=1)\n",
    "        # self.conv6_1 = nn.Conv2d(512, 512, 3, stride=1, padding=1)\n",
    "        self.fc1 = nn.Linear(16*16*256, 4096)\n",
    "        self.fc2 = nn.Linear(4096, 64)\n",
    "        self.fc3 = nn.Linear(64, 1)\n",
    "\n",
    "    def forward(self, x):\n",
    "        x = F.relu(self.conv1(x))\n",
    "        x = F.relu(self.conv1_1(x))\n",
    "        x = F.relu(self.conv2(x))\n",
    "        x = F.relu(self.conv2_1(x))\n",
    "        x = F.relu(self.conv3(x))\n",
    "        x = F.relu(self.conv3_1(x))\n",
    "        x = F.relu(self.conv4(x))\n",
    "        x = F.relu(self.conv4_1(x))\n",
    "        # x = F.relu(self.conv5(x))\n",
    "        # x = F.relu(self.conv5_1(x))\n",
    "        # x = F.relu(self.conv6(x))\n",
    "        # x = F.relu(self.conv6_1(x))\n",
    "        x = x.view(-1, 16*16*256)\n",
    "        x = F.relu(self.fc1(x))\n",
    "        x = F.relu(self.fc2(x))\n",
    "        x = self.fc3(x)\n",
    "        return x\n",
    "\n",
    "\n",
    "model = Scorer().to(device)\n",
    "optimizer = optim.Adam(model.parameters(), lr=1e-4)\n",
    "loss_fn = torch.nn.L1Loss(reduction='mean')\n",
    "val_loss = torch.nn.L1Loss(reduction='mean')\n",
    "def train(epoch):\n",
    "    model.train()\n",
    "    train_loss = 0\n",
    "    for batch_idx, (data, target) in enumerate(train_loader):\n",
    "        data = data.to(device)\n",
    "        target = target.float().to(device)\n",
    "        optimizer.zero_grad()\n",
    "        output = model(data)\n",
    "        loss = loss_fn(output.squeeze(), target)\n",
    "        loss.backward()\n",
    "        train_loss += loss.item()\n",
    "        optimizer.step()\n",
    "        if batch_idx % 5 == 0:\n",
    "            print('Train Epoch: {} [{}/{} ({:.0f}%)]\\tLoss: {:.6f}'.format(\n",
    "                epoch, batch_idx * len(data), len(train_loader.dataset),\n",
    "                100. * batch_idx / len(train_loader),\n",
    "                loss.item() / len(data)))\n",
    "\n",
    "    print('====> Epoch: {} Average loss: {:.4f}'.format(\n",
    "          epoch, train_loss / len(train_loader.dataset)))\n",
    "\n",
    "epochs = 100\n",
    "def val(epoch):\n",
    "    model.eval()\n",
    "    test_loss = 0\n",
    "    with torch.no_grad():\n",
    "        for i, (data, target) in enumerate(val_loader):\n",
    "            data = data.to(device)\n",
    "            target = target.float().to(device)\n",
    "            output = model(data)\n",
    "            test_loss += val_loss(output.squeeze(), target).item()\n",
    "\n",
    "    test_loss /= len(val_loader.dataset)\n",
    "    print('====> Test set loss: {:.4f}'.format(test_loss))\n",
    "\n",
    "\n",
    "for epoch in range(61, 60 + epochs + 1):\n",
    "    train(epoch)\n",
    "    val(epoch)"
   ]
  },
  {
   "cell_type": "code",
   "execution_count": 0,
   "metadata": {
    "colab": {},
    "colab_type": "code",
    "id": "asXeeoSbP7oy"
   },
   "outputs": [],
   "source": [
    "preds = np.zeros(len(test_dataset))\n",
    "for i, (data) in enumerate(test_loader):\n",
    "            data = data.to(device)\n",
    "            output = model(data)\n",
    "            output = (output + 1) * 4\n",
    "            output = torch.clamp(output, 0, 8)\n",
    "            preds[i*batch_size:i*batch_size + data.shape[0]] = output.cpu().detach().numpy().squeeze()"
   ]
  },
  {
   "cell_type": "code",
   "execution_count": 24,
   "metadata": {
    "colab": {
     "base_uri": "https://localhost:8080/",
     "height": 52
    },
    "colab_type": "code",
    "id": "N0Qfq1C9UTr1",
    "outputId": "8617ddb6-3663-4b5d-cc1b-aac4f9d61af4"
   },
   "outputs": [
    {
     "name": "stdout",
     "output_type": "stream",
     "text": [
      "3.362701177597046\n"
     ]
    },
    {
     "data": {
      "text/plain": [
       "0.0"
      ]
     },
     "execution_count": 24,
     "metadata": {
      "tags": []
     },
     "output_type": "execute_result"
    }
   ],
   "source": [
    "print(preds.max())\n",
    "preds.min()"
   ]
  },
  {
   "cell_type": "code",
   "execution_count": 0,
   "metadata": {
    "colab": {},
    "colab_type": "code",
    "id": "dyrfUUlxS8Hh"
   },
   "outputs": [],
   "source": [
    "data = np.hstack((np.asarray(test_dataset.Ids).reshape(-1, 1), preds.reshape(-1, 1)))\n",
    "res = pd.DataFrame(columns=[\"Id\", \"Predicted\"], data=data)\n",
    "res.to_csv(\"res.csv\", index=False)"
   ]
  },
  {
   "cell_type": "code",
   "execution_count": 0,
   "metadata": {
    "colab": {},
    "colab_type": "code",
    "id": "qcUp59vDDysH"
   },
   "outputs": [],
   "source": [
    "torch.save(model.state_dict(), base_dir + \"scorer.model\")"
   ]
  }
 ],
 "metadata": {
  "accelerator": "GPU",
  "colab": {
   "collapsed_sections": [],
   "name": "regressor.ipynb",
   "provenance": []
  },
  "kernelspec": {
   "display_name": "Python 3",
   "language": "python",
   "name": "python3"
  },
  "language_info": {
   "codemirror_mode": {
    "name": "ipython",
    "version": 3
   },
   "file_extension": ".py",
   "mimetype": "text/x-python",
   "name": "python",
   "nbconvert_exporter": "python",
   "pygments_lexer": "ipython3",
   "version": "3.6.10"
  }
 },
 "nbformat": 4,
 "nbformat_minor": 1
}
