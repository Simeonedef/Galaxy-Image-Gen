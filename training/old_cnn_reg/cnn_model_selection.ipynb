{
 "cells": [
  {
   "cell_type": "code",
   "execution_count": 1,
   "metadata": {},
   "outputs": [
    {
     "name": "stderr",
     "output_type": "stream",
     "text": [
      "/home/carlos/.local/lib/python3.6/site-packages/tensorflow/python/framework/dtypes.py:523: FutureWarning: Passing (type, 1) or '1type' as a synonym of type is deprecated; in a future version of numpy, it will be understood as (type, (1,)) / '(1,)type'.\n",
      "  _np_qint8 = np.dtype([(\"qint8\", np.int8, 1)])\n",
      "/home/carlos/.local/lib/python3.6/site-packages/tensorflow/python/framework/dtypes.py:524: FutureWarning: Passing (type, 1) or '1type' as a synonym of type is deprecated; in a future version of numpy, it will be understood as (type, (1,)) / '(1,)type'.\n",
      "  _np_quint8 = np.dtype([(\"quint8\", np.uint8, 1)])\n",
      "/home/carlos/.local/lib/python3.6/site-packages/tensorflow/python/framework/dtypes.py:525: FutureWarning: Passing (type, 1) or '1type' as a synonym of type is deprecated; in a future version of numpy, it will be understood as (type, (1,)) / '(1,)type'.\n",
      "  _np_qint16 = np.dtype([(\"qint16\", np.int16, 1)])\n",
      "/home/carlos/.local/lib/python3.6/site-packages/tensorflow/python/framework/dtypes.py:526: FutureWarning: Passing (type, 1) or '1type' as a synonym of type is deprecated; in a future version of numpy, it will be understood as (type, (1,)) / '(1,)type'.\n",
      "  _np_quint16 = np.dtype([(\"quint16\", np.uint16, 1)])\n",
      "/home/carlos/.local/lib/python3.6/site-packages/tensorflow/python/framework/dtypes.py:527: FutureWarning: Passing (type, 1) or '1type' as a synonym of type is deprecated; in a future version of numpy, it will be understood as (type, (1,)) / '(1,)type'.\n",
      "  _np_qint32 = np.dtype([(\"qint32\", np.int32, 1)])\n",
      "/home/carlos/.local/lib/python3.6/site-packages/tensorflow/python/framework/dtypes.py:532: FutureWarning: Passing (type, 1) or '1type' as a synonym of type is deprecated; in a future version of numpy, it will be understood as (type, (1,)) / '(1,)type'.\n",
      "  np_resource = np.dtype([(\"resource\", np.ubyte, 1)])\n"
     ]
    }
   ],
   "source": [
    "import tensorflow as tf\n",
    "import pandas as pd\n",
    "import numpy as np\n",
    "import matplotlib.pyplot as plt\n",
    "import os\n",
    "\n",
    "from tqdm import tqdm\n",
    "\n",
    "from tensorflow.keras.models import Sequential\n",
    "from tensorflow.keras.layers import Dense, Conv2D, Flatten, Dropout, MaxPooling2D, BatchNormalization\n",
    "from tensorflow.keras.models import Model\n",
    "from tensorflow.keras.preprocessing.image import ImageDataGenerator\n",
    "from tensorflow.keras import regularizers\n",
    "from tensorflow.keras.wrappers.scikit_learn import KerasClassifier\n",
    "from PIL import Image, ImageFile\n",
    "\n",
    "from sklearn.model_selection import KFold\n",
    "from sklearn.base import BaseEstimator\n",
    "from sklearn.model_selection import GridSearchCV\n",
    "from sklearn.metrics import mean_absolute_error, make_scorer\n",
    "\n",
    "#This is to handle corrupted images\n",
    "ImageFile.LOAD_TRUNCATED_IMAGES = True"
   ]
  },
  {
   "cell_type": "code",
   "execution_count": 5,
   "metadata": {
    "scrolled": true
   },
   "outputs": [
    {
     "name": "stdout",
     "output_type": "stream",
     "text": [
      "number of training images:  9600\n",
      "number of test images:  1200\n"
     ]
    },
    {
     "data": {
      "text/html": [
       "<div>\n",
       "<style scoped>\n",
       "    .dataframe tbody tr th:only-of-type {\n",
       "        vertical-align: middle;\n",
       "    }\n",
       "\n",
       "    .dataframe tbody tr th {\n",
       "        vertical-align: top;\n",
       "    }\n",
       "\n",
       "    .dataframe thead th {\n",
       "        text-align: right;\n",
       "    }\n",
       "</style>\n",
       "<table border=\"1\" class=\"dataframe\">\n",
       "  <thead>\n",
       "    <tr style=\"text-align: right;\">\n",
       "      <th></th>\n",
       "      <th>Id</th>\n",
       "      <th>Actual</th>\n",
       "    </tr>\n",
       "  </thead>\n",
       "  <tbody>\n",
       "    <tr>\n",
       "      <th>9264</th>\n",
       "      <td>1002900.png</td>\n",
       "      <td>2.631728</td>\n",
       "    </tr>\n",
       "    <tr>\n",
       "      <th>3920</th>\n",
       "      <td>1003620.png</td>\n",
       "      <td>1.560731</td>\n",
       "    </tr>\n",
       "    <tr>\n",
       "      <th>6953</th>\n",
       "      <td>1005208.png</td>\n",
       "      <td>3.137059</td>\n",
       "    </tr>\n",
       "    <tr>\n",
       "      <th>7129</th>\n",
       "      <td>1005849.png</td>\n",
       "      <td>3.509851</td>\n",
       "    </tr>\n",
       "    <tr>\n",
       "      <th>2528</th>\n",
       "      <td>1006237.png</td>\n",
       "      <td>1.371129</td>\n",
       "    </tr>\n",
       "    <tr>\n",
       "      <th>...</th>\n",
       "      <td>...</td>\n",
       "      <td>...</td>\n",
       "    </tr>\n",
       "    <tr>\n",
       "      <th>7083</th>\n",
       "      <td>9997019.png</td>\n",
       "      <td>1.561584</td>\n",
       "    </tr>\n",
       "    <tr>\n",
       "      <th>8160</th>\n",
       "      <td>9997923.png</td>\n",
       "      <td>3.291464</td>\n",
       "    </tr>\n",
       "    <tr>\n",
       "      <th>2776</th>\n",
       "      <td>9998327.png</td>\n",
       "      <td>0.971399</td>\n",
       "    </tr>\n",
       "    <tr>\n",
       "      <th>5146</th>\n",
       "      <td>9998462.png</td>\n",
       "      <td>1.890028</td>\n",
       "    </tr>\n",
       "    <tr>\n",
       "      <th>4739</th>\n",
       "      <td>9999837.png</td>\n",
       "      <td>0.000839</td>\n",
       "    </tr>\n",
       "  </tbody>\n",
       "</table>\n",
       "<p>9600 rows × 2 columns</p>\n",
       "</div>"
      ],
      "text/plain": [
       "               Id    Actual\n",
       "9264  1002900.png  2.631728\n",
       "3920  1003620.png  1.560731\n",
       "6953  1005208.png  3.137059\n",
       "7129  1005849.png  3.509851\n",
       "2528  1006237.png  1.371129\n",
       "...           ...       ...\n",
       "7083  9997019.png  1.561584\n",
       "8160  9997923.png  3.291464\n",
       "2776  9998327.png  0.971399\n",
       "5146  9998462.png  1.890028\n",
       "4739  9999837.png  0.000839\n",
       "\n",
       "[9600 rows x 2 columns]"
      ]
     },
     "execution_count": 5,
     "metadata": {},
     "output_type": "execute_result"
    }
   ],
   "source": [
    "#Nesting the directory because of the way the generator works\n",
    "data_dir = os.path.join('..', '..', 'data', 'scored')\n",
    "labels_dir = os.path.join('..', '..', 'data', 'scored.csv')\n",
    "test_dir = os.path.join('..', '..', 'data', 'query')\n",
    "\n",
    "#This is used later with the batch size\n",
    "num_train_imgs = len(os.listdir(data_dir))\n",
    "num_test_imgs = len(os.listdir(os.path.join(test_dir)))\n",
    "\n",
    "#Just checking that no images are lost on the way\n",
    "print(\"number of training images: \", num_train_imgs)\n",
    "print(\"number of test images: \", num_test_imgs)\n",
    "\n",
    "#Getting the indices in order of appearance from the directory and adding png for the generator\n",
    "scores_df = pd.read_csv(labels_dir)\n",
    "scores_df.reset_index(drop=True, inplace=True)\n",
    "scores_df = scores_df.sort_values(by=['Id'])\n",
    "scores_df['Id'] = scores_df['Id'].astype(str)+'.png'\n",
    "scores_df"
   ]
  },
  {
   "cell_type": "code",
   "execution_count": 6,
   "metadata": {},
   "outputs": [],
   "source": [
    "#Setting parameters\n",
    "IMG_HEIGHT = 150\n",
    "IMG_WIDTH = 150"
   ]
  },
  {
   "cell_type": "code",
   "execution_count": 7,
   "metadata": {},
   "outputs": [],
   "source": [
    "#scaling values to get intensity between 0 and 1\n",
    "train_image_generator = ImageDataGenerator(rescale=1./255) # Generator for our training data\n",
    "validation_image_generator = ImageDataGenerator(rescale=1./255) # Generator for our validation data"
   ]
  },
  {
   "cell_type": "code",
   "execution_count": 8,
   "metadata": {},
   "outputs": [
    {
     "name": "stdout",
     "output_type": "stream",
     "text": [
      "Found 9600 validated image filenames.\n"
     ]
    }
   ],
   "source": [
    "#Generator for our training data, it's being pulled from the dataframe\n",
    "train_data_gen = train_image_generator.flow_from_dataframe(dataframe=scores_df, directory=data_dir, \n",
    "                                              x_col=\"Id\", y_col=\"Actual\", has_ext=True, \n",
    "                                              class_mode=\"other\", target_size=(IMG_WIDTH, IMG_HEIGHT), \n",
    "                                              batch_size=1)"
   ]
  },
  {
   "cell_type": "code",
   "execution_count": 10,
   "metadata": {},
   "outputs": [
    {
     "name": "stderr",
     "output_type": "stream",
     "text": [
      "100%|██████████| 9600/9600 [00:57<00:00, 166.74it/s]\n"
     ]
    }
   ],
   "source": [
    "train_X = ([])\n",
    "train_y = ([])\n",
    "\n",
    "for i in tqdm(range(len(train_data_gen))):\n",
    "    (x,y) = train_data_gen[i]\n",
    "    train_X.append(x)\n",
    "    train_y.append(y)\n",
    "\n",
    "    \n",
    "train_y = np.asarray(train_y).reshape(-1)\n",
    "train_X = np.asarray(train_X).reshape(-1,150,150,3)"
   ]
  },
  {
   "cell_type": "code",
   "execution_count": 11,
   "metadata": {},
   "outputs": [],
   "source": [
    "def cnn(dropout=0.2, conv_layer_sizes=[16,32], dense_layer_size=128, batch_norm=True, l2_reg=0.001):\n",
    "    model = Sequential()\n",
    "    model.add(Conv2D(conv_layer_sizes[0], 3,padding='same', activation='relu', input_shape=(IMG_HEIGHT, IMG_WIDTH ,3) ))\n",
    "    model.add(MaxPooling2D())\n",
    "    if batch_norm:\n",
    "        model.add(BatchNormalization())\n",
    "    model.add(Dropout(dropout))\n",
    "    model.add(Conv2D(conv_layer_sizes[1], 3,padding='same', activation='relu', input_shape=(IMG_HEIGHT, IMG_WIDTH ,3) ))\n",
    "    model.add(MaxPooling2D())\n",
    "    if batch_norm:\n",
    "        model.add(BatchNormalization())\n",
    "    model.add(Dropout(dropout))\n",
    "    model.add(Flatten())\n",
    "    model.add(Dense(dense_layer_size, activation='relu', kernel_regularizer=regularizers.l2(l2_reg)))\n",
    "    if batch_norm:\n",
    "        model.add(BatchNormalization())\n",
    "    model.add(Dropout(dropout))\n",
    "    model.add(Dense(1, activation='linear'))\n",
    "    return model"
   ]
  },
  {
   "cell_type": "code",
   "execution_count": 12,
   "metadata": {},
   "outputs": [],
   "source": [
    "class customCNN(BaseEstimator):\n",
    "    def __init__(self, epochs=10, batch_size=16, dropout=0.2, \n",
    "                   conv_layer_sizes=[16,32], dense_layer_size=128, batch_norm=True, l2_reg=0.001):\n",
    "        self.epochs = epochs\n",
    "        self.batch_size = batch_size\n",
    "        self.dropout = dropout\n",
    "        self.conv_layer_sizes = conv_layer_sizes\n",
    "        self.dense_layer_size = dense_layer_size\n",
    "        self.batch_norm = batch_norm\n",
    "        self.l2_reg = l2_reg\n",
    "    \n",
    "    def fit(self, train_X, train_y, **kwargs):\n",
    "        self.build_model()\n",
    "        self.model.fit(train_X, train_y, epochs=self.epochs, batch_size=self.batch_size)\n",
    "        \n",
    "    def predict(self, eval_X):\n",
    "        return self.model.predict(eval_X)\n",
    "        \n",
    "    def set_params(self, epochs=10, batch_size=16, dropout=0.2, \n",
    "                   conv_layer_sizes=[16,32], dense_layer_size=128, batch_norm=True, l2_reg=0.001):\n",
    "        self.epochs = epochs\n",
    "        self.batch_size = batch_size\n",
    "        self.dropout = dropout\n",
    "        self.conv_layer_sizes = conv_layer_sizes\n",
    "        self.dense_layer_size = dense_layer_size\n",
    "        self.batch_norm = batch_norm\n",
    "        self.l2_reg = l2_reg\n",
    "        \n",
    "        return self\n",
    "    \n",
    "    \n",
    "    def build_model(self):\n",
    "        self.model = cnn(dropout=self.dropout, conv_layer_sizes=self.conv_layer_sizes, \n",
    "                         dense_layer_size=self.dense_layer_size, batch_norm=self.batch_norm, l2_reg=self.l2_reg)\n",
    "        self.model.compile(loss='MAE', optimizer='adam', metrics=['MSE'])"
   ]
  },
  {
   "cell_type": "code",
   "execution_count": null,
   "metadata": {
    "scrolled": false
   },
   "outputs": [
    {
     "name": "stdout",
     "output_type": "stream",
     "text": [
      "Fitting 3 folds for each of 64 candidates, totalling 192 fits\n",
      "[CV] batch_norm=True, batch_size=32, conv_layer_sizes=[16, 16], dense_layer_size=64, dropout=0.2, epochs=25, l2_reg=0.001 \n"
     ]
    },
    {
     "name": "stderr",
     "output_type": "stream",
     "text": [
      "[Parallel(n_jobs=1)]: Using backend SequentialBackend with 1 concurrent workers.\n"
     ]
    }
   ],
   "source": [
    "params = {\n",
    "    'epochs': [25, 40],\n",
    "    'batch_size': [32],\n",
    "    'dropout': [0.2, 0.4],\n",
    "    'l2_reg' : [0.001,0.01],\n",
    "    'conv_layer_sizes': [[16, 16], [32, 32]],\n",
    "    'dense_layer_size': [64,128],\n",
    "    'batch_norm': [True, False]\n",
    "}\n",
    "\n",
    "dummy_params = {\n",
    "    'epochs': [25],\n",
    "    'batch_size': [32],\n",
    "    'dropout': [0.2],\n",
    "    'l2_reg' : [0.01],\n",
    "    'conv_layer_sizes': [[16, 16]],\n",
    "    'dense_layer_size': [64],\n",
    "    'batch_norm': [True]\n",
    "}\n",
    "\n",
    "model = customCNN()\n",
    "search2 = GridSearchCV(estimator=model, \n",
    "                      param_grid=params,\n",
    "                      cv=3,\n",
    "                      scoring=make_scorer(mean_absolute_error),\n",
    "                      return_train_score=True, \n",
    "                      refit=True, verbose=10, n_jobs=1)\n",
    "best2 = search2.fit(train_X, train_y)\n",
    "best2.__dict__"
   ]
  },
  {
   "cell_type": "code",
   "execution_count": 10,
   "metadata": {},
   "outputs": [
    {
     "data": {
      "text/plain": [
       "array([1.0230311 , 0.8244972 , 1.04088535, 2.13278749, 1.12533207,\n",
       "       0.75667899, 1.52458086, 0.96496995, 0.7412967 , 0.80480617,\n",
       "       0.82634075, 1.09689406, 0.95563994, 0.80768709, 0.83717695,\n",
       "       0.8262063 , 0.94441724, 0.77647351, 0.7476059 , 0.86528939,\n",
       "       0.84342522, 0.90307565, 1.64578542, 0.82548854, 0.76111688,\n",
       "       0.76338376, 0.86565194, 1.11472444, 0.84140423, 0.80801579,\n",
       "       1.01916089, 0.73594003, 0.62995951, 0.58233069, 0.63355309,\n",
       "       0.57641669, 0.61117038, 0.60966229, 0.6068596 , 0.58816247,\n",
       "       0.63577718, 0.5780028 , 0.63618068, 0.5772938 , 0.59623402,\n",
       "       0.6038881 , 0.60175491, 0.58214421, 0.62971495, 0.62084271,\n",
       "       0.63084223, 0.58408147, 0.61505957, 0.60105196, 0.61341593,\n",
       "       0.59698914, 0.63258646, 0.57988153, 0.6328574 , 0.57601805,\n",
       "       0.59549219, 0.58002142, 0.61278375, 0.5769883 ])"
      ]
     },
     "execution_count": 10,
     "metadata": {},
     "output_type": "execute_result"
    }
   ],
   "source": [
    "best2.cv_results_['mean_test_score']"
   ]
  },
  {
   "cell_type": "code",
   "execution_count": 29,
   "metadata": {},
   "outputs": [
    {
     "data": {
      "image/png": "[encoded data removed]",
      "text/plain": [
       "<Figure size 576x576 with 2 Axes>"
      ]
     },
     "metadata": {
      "needs_background": "light"
     },
     "output_type": "display_data"
    }
   ],
   "source": [
    "#Pulling some pretty graphs for training\n",
    "\n",
    "acc = history.history['MSE']\n",
    "\n",
    "loss=history.history['loss']\n",
    "\n",
    "epochs_range = range(epochs)\n",
    "\n",
    "plt.figure(figsize=(8, 8))\n",
    "plt.subplot(1, 2, 1)\n",
    "plt.plot(epochs_range, acc, label='Training Accuracy')\n",
    "plt.legend(loc='lower right')\n",
    "plt.title('Training Accuracy')\n",
    "\n",
    "plt.subplot(1, 2, 2)\n",
    "plt.plot(epochs_range, loss, label='Training Loss')\n",
    "plt.legend(loc='upper right')\n",
    "plt.title('Training Loss')\n",
    "plt.show()"
   ]
  }
 ],
 "metadata": {
  "kernelspec": {
   "display_name": "Python [conda env:rai] *",
   "language": "python",
   "name": "conda-env-rai-py"
  },
  "language_info": {
   "codemirror_mode": {
    "name": "ipython",
    "version": 3
   },
   "file_extension": ".py",
   "mimetype": "text/x-python",
   "name": "python",
   "nbconvert_exporter": "python",
   "pygments_lexer": "ipython3",
   "version": "3.6.10"
  }
 },
 "nbformat": 4,
 "nbformat_minor": 2
}
