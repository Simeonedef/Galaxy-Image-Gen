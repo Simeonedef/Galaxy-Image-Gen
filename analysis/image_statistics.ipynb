{
 "cells": [
  {
   "cell_type": "markdown",
   "metadata": {},
   "source": [
    "## Cluster information analysis\n",
    "This notebook loads a file which already contains raw information about the clusters found in the imaged from the scored data. The columns of the dataframe are:\n",
    "* id: the name of the image in the dataset\n",
    "* score: the score of the image\n",
    "* background_threshold: see baseline/image_processing.py, method estimate_background_intensity_threshold\n",
    "* cluster_num: the number of clusters found in the image\n",
    "* cluster_sizes: a list, the number of pixels in each cluster of the image\n",
    "* cluster_peak_intensities: a list, the intensity of the center pixel for each cluster\n",
    "* cluster_num_intensities: a list, the number of different intensities in each cluster\n",
    "* cluster_center: a list, a pair representing the pixel location of the center of each cluster"
   ]
  },
  {
   "cell_type": "code",
   "execution_count": 56,
   "metadata": {
    "pycharm": {
     "is_executing": false,
     "name": "#%%\n"
    }
   },
   "outputs": [],
   "source": [
    "%reload_ext autoreload\n",
    "%autoreload 2\n",
    "import ast\n",
    "import pickle\n",
    "import itertools\n",
    "from collections import Counter\n",
    "\n",
    "import numpy as np\n",
    "import matplotlib.pyplot as plt\n",
    "import cv2\n",
    "import swifter\n",
    "\n",
    "from analysis.generate_cluster_information_file import load\n",
    "from baseline.image_processing import pixel_intensity_histogram"
   ]
  },
  {
   "cell_type": "code",
   "execution_count": 25,
   "metadata": {
    "pycharm": {
     "is_executing": false
    },
    "scrolled": true
   },
   "outputs": [
    {
     "data": {
      "text/html": [
       "<div>\n",
       "<style scoped>\n",
       "    .dataframe tbody tr th:only-of-type {\n",
       "        vertical-align: middle;\n",
       "    }\n",
       "\n",
       "    .dataframe tbody tr th {\n",
       "        vertical-align: top;\n",
       "    }\n",
       "\n",
       "    .dataframe thead th {\n",
       "        text-align: right;\n",
       "    }\n",
       "</style>\n",
       "<table border=\"1\" class=\"dataframe\">\n",
       "  <thead>\n",
       "    <tr style=\"text-align: right;\">\n",
       "      <th></th>\n",
       "      <th>score</th>\n",
       "      <th>background_threshold</th>\n",
       "      <th>cluster_num</th>\n",
       "      <th>cluster_sizes</th>\n",
       "      <th>cluster_peak_intensities</th>\n",
       "      <th>cluster_num_intensities</th>\n",
       "      <th>cluster_centers</th>\n",
       "    </tr>\n",
       "    <tr>\n",
       "      <th>id</th>\n",
       "      <th></th>\n",
       "      <th></th>\n",
       "      <th></th>\n",
       "      <th></th>\n",
       "      <th></th>\n",
       "      <th></th>\n",
       "      <th></th>\n",
       "    </tr>\n",
       "  </thead>\n",
       "  <tbody>\n",
       "    <tr>\n",
       "      <th>1002900</th>\n",
       "      <td>2.631728</td>\n",
       "      <td>0</td>\n",
       "      <td>50</td>\n",
       "      <td>[144, 38, 24, 16, 5, 39, 17, 18, 26, 11, 56, 1...</td>\n",
       "      <td>[6, 6, 2, 2, 1, 8, 2, 1, 3, 1, 3, 2, 255, 2, 6...</td>\n",
       "      <td>[6, 6, 2, 2, 1, 7, 2, 1, 3, 1, 3, 2, 71, 2, 6,...</td>\n",
       "      <td>[(3, 524), (44, 425), (55, 321), (66, 400), (9...</td>\n",
       "    </tr>\n",
       "    <tr>\n",
       "      <th>1003620</th>\n",
       "      <td>1.560731</td>\n",
       "      <td>0</td>\n",
       "      <td>104</td>\n",
       "      <td>[28, 17, 8, 11, 45, 4, 14, 71, 1, 7, 2, 18, 11...</td>\n",
       "      <td>[4, 2, 1, 2, 9, 1, 2, 16, 1, 1, 1, 3, 1, 1, 1,...</td>\n",
       "      <td>[4, 2, 1, 2, 8, 1, 2, 14, 1, 1, 1, 3, 1, 1, 1,...</td>\n",
       "      <td>[(19, 375), (53, 839), (56, 524), (84, 208), (...</td>\n",
       "    </tr>\n",
       "    <tr>\n",
       "      <th>1005208</th>\n",
       "      <td>3.137059</td>\n",
       "      <td>1</td>\n",
       "      <td>71</td>\n",
       "      <td>[53, 27, 42, 6, 3, 15, 19, 45, 73, 115, 119, 6...</td>\n",
       "      <td>[12, 4, 9, 2, 2, 2, 3, 4, 9, 68, 78, 2, 2, 2, ...</td>\n",
       "      <td>[10, 3, 8, 1, 1, 1, 2, 3, 8, 31, 34, 1, 1, 1, ...</td>\n",
       "      <td>[(3, 582), (0, 715), (14, 83), (19, 614), (51,...</td>\n",
       "    </tr>\n",
       "    <tr>\n",
       "      <th>1005849</th>\n",
       "      <td>3.509851</td>\n",
       "      <td>2</td>\n",
       "      <td>49</td>\n",
       "      <td>[1, 5, 61, 4, 80, 45, 68, 44, 10, 35, 28, 7, 3...</td>\n",
       "      <td>[3, 3, 12, 3, 69, 15, 12, 17, 3, 4, 5, 3, 3, 3...</td>\n",
       "      <td>[1, 1, 10, 1, 27, 8, 9, 13, 1, 2, 3, 1, 1, 1, ...</td>\n",
       "      <td>[(0, 906), (0, 949), (5, 508), (24, 591), (34,...</td>\n",
       "    </tr>\n",
       "    <tr>\n",
       "      <th>1006237</th>\n",
       "      <td>1.371129</td>\n",
       "      <td>0</td>\n",
       "      <td>169</td>\n",
       "      <td>[3, 92, 6, 138, 16, 12, 142, 6, 31, 1, 11, 3, ...</td>\n",
       "      <td>[1, 179, 1, 255, 2, 1, 5, 1, 5, 1, 1, 1, 3, 1,...</td>\n",
       "      <td>[1, 41, 1, 47, 2, 1, 5, 1, 5, 1, 1, 1, 3, 1, 2...</td>\n",
       "      <td>[(0, 604), (2, 736), (13, 155), (26, 601), (22...</td>\n",
       "    </tr>\n",
       "  </tbody>\n",
       "</table>\n",
       "</div>"
      ],
      "text/plain": [
       "            score  background_threshold  cluster_num  \\\n",
       "id                                                     \n",
       "1002900  2.631728                     0           50   \n",
       "1003620  1.560731                     0          104   \n",
       "1005208  3.137059                     1           71   \n",
       "1005849  3.509851                     2           49   \n",
       "1006237  1.371129                     0          169   \n",
       "\n",
       "                                             cluster_sizes  \\\n",
       "id                                                           \n",
       "1002900  [144, 38, 24, 16, 5, 39, 17, 18, 26, 11, 56, 1...   \n",
       "1003620  [28, 17, 8, 11, 45, 4, 14, 71, 1, 7, 2, 18, 11...   \n",
       "1005208  [53, 27, 42, 6, 3, 15, 19, 45, 73, 115, 119, 6...   \n",
       "1005849  [1, 5, 61, 4, 80, 45, 68, 44, 10, 35, 28, 7, 3...   \n",
       "1006237  [3, 92, 6, 138, 16, 12, 142, 6, 31, 1, 11, 3, ...   \n",
       "\n",
       "                                  cluster_peak_intensities  \\\n",
       "id                                                           \n",
       "1002900  [6, 6, 2, 2, 1, 8, 2, 1, 3, 1, 3, 2, 255, 2, 6...   \n",
       "1003620  [4, 2, 1, 2, 9, 1, 2, 16, 1, 1, 1, 3, 1, 1, 1,...   \n",
       "1005208  [12, 4, 9, 2, 2, 2, 3, 4, 9, 68, 78, 2, 2, 2, ...   \n",
       "1005849  [3, 3, 12, 3, 69, 15, 12, 17, 3, 4, 5, 3, 3, 3...   \n",
       "1006237  [1, 179, 1, 255, 2, 1, 5, 1, 5, 1, 1, 1, 3, 1,...   \n",
       "\n",
       "                                   cluster_num_intensities  \\\n",
       "id                                                           \n",
       "1002900  [6, 6, 2, 2, 1, 7, 2, 1, 3, 1, 3, 2, 71, 2, 6,...   \n",
       "1003620  [4, 2, 1, 2, 8, 1, 2, 14, 1, 1, 1, 3, 1, 1, 1,...   \n",
       "1005208  [10, 3, 8, 1, 1, 1, 2, 3, 8, 31, 34, 1, 1, 1, ...   \n",
       "1005849  [1, 1, 10, 1, 27, 8, 9, 13, 1, 2, 3, 1, 1, 1, ...   \n",
       "1006237  [1, 41, 1, 47, 2, 1, 5, 1, 5, 1, 1, 1, 3, 1, 2...   \n",
       "\n",
       "                                           cluster_centers  \n",
       "id                                                          \n",
       "1002900  [(3, 524), (44, 425), (55, 321), (66, 400), (9...  \n",
       "1003620  [(19, 375), (53, 839), (56, 524), (84, 208), (...  \n",
       "1005208  [(3, 582), (0, 715), (14, 83), (19, 614), (51,...  \n",
       "1005849  [(0, 906), (0, 949), (5, 508), (24, 591), (34,...  \n",
       "1006237  [(0, 604), (2, 736), (13, 155), (26, 601), (22...  "
      ]
     },
     "execution_count": 25,
     "metadata": {},
     "output_type": "execute_result"
    }
   ],
   "source": [
    "df = load()\n",
    "df.head(5)"
   ]
  },
  {
   "cell_type": "code",
   "execution_count": 30,
   "metadata": {},
   "outputs": [
    {
     "data": {
      "text/plain": [
       "2967"
      ]
     },
     "execution_count": 30,
     "metadata": {},
     "output_type": "execute_result"
    }
   ],
   "source": [
    "real_images_df = df[df.score >= 2.0]\n",
    "real_images_df.shape[0]"
   ]
  },
  {
   "cell_type": "code",
   "execution_count": null,
   "metadata": {
    "scrolled": false
   },
   "outputs": [],
   "source": [
    "# pd saves lists as strings, so we need to convert them to lists manually\n",
    "real_images_df.cluster_sizes = real_images_df.cluster_sizes.swifter.apply(ast.literal_eval)\n",
    "real_images_df.cluster_centers = real_images_df.cluster_centers.swifter.apply(ast.literal_eval)\n",
    "real_images_df.cluster_peak_intensities = real_images_df.cluster_peak_intensities.swifter.apply(ast.literal_eval)\n",
    "real_images_df.cluster_num_intensities = real_images_df.cluster_num_intensities.swifter.apply(ast.literal_eval)\n",
    "\n",
    "assert type(real_images_df.cluster_sizes.tolist()[0]) == list\n",
    "\n",
    "real_images_df.head(10)"
   ]
  },
  {
   "cell_type": "markdown",
   "metadata": {},
   "source": [
    "### Distribution of number of galaxies per real image"
   ]
  },
  {
   "cell_type": "code",
   "execution_count": null,
   "metadata": {},
   "outputs": [],
   "source": [
    "fig, (ax1, ax2) = plt.subplots(1, 2)\n",
    "cluster_nums = real_images_df[real_images_df.cluster_num <= 1000].cluster_num.tolist() # get rid of outliers\n",
    "cluster_nums_restricted = real_images_df[real_images_df.cluster_num <= 200].cluster_num.tolist() # more restricted\n",
    "\n",
    "print(\"{}% of images with <= 200 clusters.\".format((len(cluster_nums_restricted) / real_images_df.shape[0]) * 100))\n",
    "ax1.hist(cluster_nums, bins=60)\n",
    "\n",
    "ax2.hist(cluster_nums_restricted, bins=50)\n",
    "plt.show()"
   ]
  },
  {
   "cell_type": "markdown",
   "metadata": {},
   "source": [
    "#### How do the outliers look like ?"
   ]
  },
  {
   "cell_type": "code",
   "execution_count": null,
   "metadata": {
    "scrolled": true
   },
   "outputs": [],
   "source": [
    "outlier_image_id = real_images_df[real_images_df.cluster_num > 1000].index.tolist()[0]\n",
    "outlier_img = cv2.imread('../data/scored/{}.png'.format(outlier_image_id))\n",
    "fig, ax = plt.subplots(figsize=(100, 100))\n",
    "plt.imshow(outlier_img, cmap='gray')\n",
    "plt.show()\n",
    "print(pixel_intensity_histogram(outlier_img))"
   ]
  },
  {
   "cell_type": "markdown",
   "metadata": {},
   "source": [
    "### Distribution of galaxy size"
   ]
  },
  {
   "cell_type": "markdown",
   "metadata": {},
   "source": [
    "#### Result 1: A vast  majority of the 'clusters' are actually just a single point"
   ]
  },
  {
   "cell_type": "code",
   "execution_count": 51,
   "metadata": {},
   "outputs": [
    {
     "data": {
      "image/png": "[encoded data removed]",
      "text/plain": [
       "<Figure size 432x288 with 3 Axes>"
      ]
     },
     "metadata": {
      "needs_background": "light"
     },
     "output_type": "display_data"
    }
   ],
   "source": [
    "all_galaxy_sizes = list(itertools.chain.from_iterable(real_images_df.cluster_sizes.tolist())) \n",
    "fig, (ax1, ax2, ax3) = plt.subplots(1, 3)\n",
    "# fig.tight_layout()\n",
    "plt.subplots_adjust(left=8.0, bottom=None, right=10.0, top=None, wspace=None, hspace=None)\n",
    "ax1.hist(all_galaxy_sizes, bins=100, range=(1, 450))\n",
    "ax2.hist(all_galaxy_sizes, bins=30, range=(1, 80))\n",
    "ax3.hist(all_galaxy_sizes, bins=20, range=(1, 20))\n",
    "plt.show()"
   ]
  },
  {
   "cell_type": "code",
   "execution_count": 54,
   "metadata": {},
   "outputs": [
    {
     "data": {
      "text/plain": [
       "[(1, 319914),\n",
       " (2, 56063),\n",
       " (3, 19651),\n",
       " (4, 14925),\n",
       " (5, 8785),\n",
       " (6, 8683),\n",
       " (7, 8207),\n",
       " (8, 7476),\n",
       " (9, 7310),\n",
       " (10, 6151),\n",
       " (12, 5613),\n",
       " (13, 5543),\n",
       " (14, 5420),\n",
       " (11, 5266),\n",
       " (16, 4950)]"
      ]
     },
     "execution_count": 54,
     "metadata": {},
     "output_type": "execute_result"
    }
   ],
   "source": [
    "Counter(all_galaxy_sizes).most_common(15)"
   ]
  },
  {
   "cell_type": "markdown",
   "metadata": {},
   "source": [
    "#### Result 2: Most of the single-point clusters are of intensity of only 1\n",
    "Are these points just noise or distant galaxies ??"
   ]
  },
  {
   "cell_type": "code",
   "execution_count": 59,
   "metadata": {},
   "outputs": [
    {
     "data": {
      "text/plain": [
       "[(1, 212001), (2, 84981), (3, 22911), (4, 21)]"
      ]
     },
     "execution_count": 59,
     "metadata": {},
     "output_type": "execute_result"
    }
   ],
   "source": [
    "all_peak_intensities = np.array(list(itertools.chain.from_iterable(real_images_df.cluster_peak_intensities.tolist()))) \n",
    "all_galaxy_sizes = np.array(all_galaxy_sizes)\n",
    "single_points_galaxy_indices = all_galaxy_sizes == 1\n",
    "\n",
    "Counter(all_peak_intensities[single_points_galaxy_indices]).most_common(10)"
   ]
  }
 ],
 "metadata": {
  "kernelspec": {
   "display_name": "Python 3",
   "language": "python",
   "name": "python3"
  },
  "language_info": {
   "codemirror_mode": {
    "name": "ipython",
    "version": 3
   },
   "file_extension": ".py",
   "mimetype": "text/x-python",
   "name": "python",
   "nbconvert_exporter": "python",
   "pygments_lexer": "ipython3",
   "version": "3.8.2"
  },
  "pycharm": {
   "stem_cell": {
    "cell_type": "raw",
    "metadata": {
     "collapsed": false
    },
    "source": []
   }
  }
 },
 "nbformat": 4,
 "nbformat_minor": 1
}
