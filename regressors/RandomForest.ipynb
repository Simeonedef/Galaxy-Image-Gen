{
 "cells": [
  {
   "cell_type": "code",
   "execution_count": 102,
   "metadata": {},
   "outputs": [],
   "source": [
    "from xgboost import XGBRegressor\n",
    "import pandas as pd\n",
    "import numpy as np\n",
    "from sklearn.model_selection import train_test_split\n",
    "from sklearn.metrics import mean_absolute_error, make_scorer\n",
    "from sklearn.model_selection import RandomizedSearchCV, GridSearchCV, cross_val_score\n",
    "from sklearn.preprocessing import StandardScaler\n",
    "from sklearn.pipeline import Pipeline\n",
    "from sklearn.decomposition import PCA"
   ]
  },
  {
   "cell_type": "code",
   "execution_count": 95,
   "metadata": {},
   "outputs": [],
   "source": [
    "scored_hist = pd.read_csv(\"../data/scored_histograms.csv\", index_col=\"Id\")\n",
    "query_hist = pd.read_csv(\"../data/query_histograms.csv\", index_col=\"Id\")\n",
    "# scored_pca = pd.read_csv(\"../data/scored_features.csv\", index_col=\"Id\")\n",
    "# query_pca = pd.read_csv(\"../data/query_features.csv\", index_col=\"Id\")\n",
    "scored_hog = pd.read_csv(\"../data/scored_hog.csv\", index_col=\"Id\")\n",
    "scored_hog.columns = [col + \"_hog\" for col in scored_hog.columns]\n",
    "query_hog = pd.read_csv(\"../data/query_hog.csv\", index_col=\"Id\")\n",
    "query_hog.columns = [col + \"_hog\" for col in query_hog.columns]\n",
    "\n",
    "X = scored_hist.drop(columns=['Unnamed: 0', 'Actual'])\n",
    "# X['pca'] = scored_hist.iloc[:, 1]\n",
    "X = X.join(scored_hog)\n",
    "y = pd.DataFrame(scored_hist['Actual'])\n",
    "\n",
    "X_test = query_hist.drop(columns=['Unnamed: 0', 'Actual'])\n",
    "# X_test['pca'] = query_hist.iloc[:, 1]\n",
    "X_test = X_test.join(query_hog)"
   ]
  },
  {
   "cell_type": "code",
   "execution_count": 112,
   "metadata": {},
   "outputs": [],
   "source": [
    "X_train, X_val, y_train, y_val = train_test_split(X, y, train_size=0.85)"
   ]
  },
  {
   "cell_type": "code",
   "execution_count": 114,
   "metadata": {},
   "outputs": [],
   "source": [
    "scaler = StandardScaler()\n",
    "X_train = scaler.fit_transform(X_train)\n",
    "X_val = scaler.transform(X_val)\n",
    "X_test = scaler.transform(X_test)"
   ]
  },
  {
   "cell_type": "code",
   "execution_count": 104,
   "metadata": {
    "scrolled": true
   },
   "outputs": [
    {
     "name": "stdout",
     "output_type": "stream",
     "text": [
      "Fitting 5 folds for each of 4 candidates, totalling 20 fits\n"
     ]
    },
    {
     "name": "stderr",
     "output_type": "stream",
     "text": [
      "[Parallel(n_jobs=-1)]: Using backend LokyBackend with 8 concurrent workers.\n",
      "[Parallel(n_jobs=-1)]: Done   2 tasks      | elapsed:   15.7s\n",
      "[Parallel(n_jobs=-1)]: Done   8 out of  20 | elapsed:   52.5s remaining:  1.3min\n",
      "[Parallel(n_jobs=-1)]: Done  11 out of  20 | elapsed:  4.7min remaining:  3.8min\n",
      "[Parallel(n_jobs=-1)]: Done  14 out of  20 | elapsed:  5.4min remaining:  2.3min\n",
      "[Parallel(n_jobs=-1)]: Done  17 out of  20 | elapsed:  9.4min remaining:  1.7min\n",
      "[Parallel(n_jobs=-1)]: Done  20 out of  20 | elapsed: 11.0min remaining:    0.0s\n",
      "[Parallel(n_jobs=-1)]: Done  20 out of  20 | elapsed: 11.0min finished\n"
     ]
    },
    {
     "data": {
      "text/plain": [
       "GridSearchCV(cv=5, error_score=nan,\n",
       "             estimator=Pipeline(memory=None,\n",
       "                                steps=[('transformer',\n",
       "                                        StandardScaler(copy=True,\n",
       "                                                       with_mean=True,\n",
       "                                                       with_std=True)),\n",
       "                                       ('clf',\n",
       "                                        XGBRegressor(base_score=0.5,\n",
       "                                                     booster='gbtree',\n",
       "                                                     colsample_bylevel=1,\n",
       "                                                     colsample_bynode=1,\n",
       "                                                     colsample_bytree=1,\n",
       "                                                     gamma=0,\n",
       "                                                     importance_type='gain',\n",
       "                                                     learning_rate=0.1,\n",
       "                                                     max_delta_step=0,\n",
       "                                                     max_depth=3,\n",
       "                                                     min_child_weight=1,...\n",
       "                                                     scale_pos_weight=1,\n",
       "                                                     seed=None, silent=None,\n",
       "                                                     subsample=1,\n",
       "                                                     verbosity=1))],\n",
       "                                verbose=False),\n",
       "             iid='deprecated', n_jobs=-1,\n",
       "             param_grid={'clf__colsample_bytree': [1], 'clf__max_depth': [6],\n",
       "                         'clf__n_estimators': [30, 100, 500, 1000],\n",
       "                         'clf__objective': ['reg:squarederror']},\n",
       "             pre_dispatch='2*n_jobs', refit=True, return_train_score=False,\n",
       "             scoring=make_scorer(mean_absolute_error), verbose=10)"
      ]
     },
     "execution_count": 104,
     "metadata": {},
     "output_type": "execute_result"
    }
   ],
   "source": [
    "hyperparams = {\n",
    "    \"clf__n_estimators\": [30, 100, 500, 1000],\n",
    "    \"clf__max_depth\": [6],\n",
    "    \"clf__colsample_bytree\": [1],\n",
    "#     \"clf__reg_lambda\": [1, 2],\n",
    "#     \"clf__reg_alpha\" : [0, 1],\n",
    "    \"clf__objective\": [\"reg:squarederror\"]\n",
    "}\n",
    "\n",
    "pipeline = Pipeline([('transformer', StandardScaler()),\n",
    "                         ('clf', XGBRegressor())])\n",
    "\n",
    "search = GridSearchCV(pipeline, hyperparams, cv=5, verbose=10, n_jobs=-1, refit=True, scoring=make_scorer(mean_absolute_error))\n",
    "search.fit(X, y)"
   ]
  },
  {
   "cell_type": "code",
   "execution_count": 105,
   "metadata": {
    "scrolled": false
   },
   "outputs": [
    {
     "data": {
      "text/plain": [
       "{'scoring': make_scorer(mean_absolute_error),\n",
       " 'estimator': Pipeline(memory=None,\n",
       "          steps=[('transformer',\n",
       "                  StandardScaler(copy=True, with_mean=True, with_std=True)),\n",
       "                 ('clf',\n",
       "                  XGBRegressor(base_score=0.5, booster='gbtree',\n",
       "                               colsample_bylevel=1, colsample_bynode=1,\n",
       "                               colsample_bytree=1, gamma=0,\n",
       "                               importance_type='gain', learning_rate=0.1,\n",
       "                               max_delta_step=0, max_depth=3, min_child_weight=1,\n",
       "                               missing=None, n_estimators=100, n_jobs=1,\n",
       "                               nthread=None, objective='reg:linear',\n",
       "                               random_state=0, reg_alpha=0, reg_lambda=1,\n",
       "                               scale_pos_weight=1, seed=None, silent=None,\n",
       "                               subsample=1, verbosity=1))],\n",
       "          verbose=False),\n",
       " 'n_jobs': -1,\n",
       " 'iid': 'deprecated',\n",
       " 'refit': True,\n",
       " 'cv': 5,\n",
       " 'verbose': 10,\n",
       " 'pre_dispatch': '2*n_jobs',\n",
       " 'error_score': nan,\n",
       " 'return_train_score': False,\n",
       " 'param_grid': {'clf__n_estimators': [30, 100, 500, 1000],\n",
       "  'clf__max_depth': [6],\n",
       "  'clf__colsample_bytree': [1],\n",
       "  'clf__objective': ['reg:squarederror']},\n",
       " 'multimetric_': False,\n",
       " 'best_index_': 0,\n",
       " 'best_score_': 0.32445673974065564,\n",
       " 'best_params_': {'clf__colsample_bytree': 1,\n",
       "  'clf__max_depth': 6,\n",
       "  'clf__n_estimators': 30,\n",
       "  'clf__objective': 'reg:squarederror'},\n",
       " 'best_estimator_': Pipeline(memory=None,\n",
       "          steps=[('transformer',\n",
       "                  StandardScaler(copy=True, with_mean=True, with_std=True)),\n",
       "                 ('clf',\n",
       "                  XGBRegressor(base_score=0.5, booster='gbtree',\n",
       "                               colsample_bylevel=1, colsample_bynode=1,\n",
       "                               colsample_bytree=1, gamma=0,\n",
       "                               importance_type='gain', learning_rate=0.1,\n",
       "                               max_delta_step=0, max_depth=6, min_child_weight=1,\n",
       "                               missing=None, n_estimators=30, n_jobs=1,\n",
       "                               nthread=None, objective='reg:squarederror',\n",
       "                               random_state=0, reg_alpha=0, reg_lambda=1,\n",
       "                               scale_pos_weight=1, seed=None, silent=None,\n",
       "                               subsample=1, verbosity=1))],\n",
       "          verbose=False),\n",
       " 'refit_time_': 8.194069862365723,\n",
       " 'scorer_': make_scorer(mean_absolute_error),\n",
       " 'cv_results_': {'mean_fit_time': array([ 14.13563461,  50.26461225, 271.32603192, 446.28878546]),\n",
       "  'std_fit_time': array([ 0.58705736,  1.58286241,  5.11330204, 58.89068601]),\n",
       "  'mean_score_time': array([0.03295197, 0.04310136, 0.13442988, 0.15937099]),\n",
       "  'std_score_time': array([0.00187096, 0.00138244, 0.02276736, 0.04162235]),\n",
       "  'param_clf__colsample_bytree': masked_array(data=[1, 1, 1, 1],\n",
       "               mask=[False, False, False, False],\n",
       "         fill_value='?',\n",
       "              dtype=object),\n",
       "  'param_clf__max_depth': masked_array(data=[6, 6, 6, 6],\n",
       "               mask=[False, False, False, False],\n",
       "         fill_value='?',\n",
       "              dtype=object),\n",
       "  'param_clf__n_estimators': masked_array(data=[30, 100, 500, 1000],\n",
       "               mask=[False, False, False, False],\n",
       "         fill_value='?',\n",
       "              dtype=object),\n",
       "  'param_clf__objective': masked_array(data=['reg:squarederror', 'reg:squarederror',\n",
       "                     'reg:squarederror', 'reg:squarederror'],\n",
       "               mask=[False, False, False, False],\n",
       "         fill_value='?',\n",
       "              dtype=object),\n",
       "  'params': [{'clf__colsample_bytree': 1,\n",
       "    'clf__max_depth': 6,\n",
       "    'clf__n_estimators': 30,\n",
       "    'clf__objective': 'reg:squarederror'},\n",
       "   {'clf__colsample_bytree': 1,\n",
       "    'clf__max_depth': 6,\n",
       "    'clf__n_estimators': 100,\n",
       "    'clf__objective': 'reg:squarederror'},\n",
       "   {'clf__colsample_bytree': 1,\n",
       "    'clf__max_depth': 6,\n",
       "    'clf__n_estimators': 500,\n",
       "    'clf__objective': 'reg:squarederror'},\n",
       "   {'clf__colsample_bytree': 1,\n",
       "    'clf__max_depth': 6,\n",
       "    'clf__n_estimators': 1000,\n",
       "    'clf__objective': 'reg:squarederror'}],\n",
       "  'split0_test_score': array([0.3285128 , 0.315617  , 0.31691643, 0.3160213 ]),\n",
       "  'split1_test_score': array([0.33641797, 0.32270999, 0.32203134, 0.32141879]),\n",
       "  'split2_test_score': array([0.32171672, 0.30839057, 0.30768488, 0.30709352]),\n",
       "  'split3_test_score': array([0.32318107, 0.31176016, 0.30850368, 0.30833856]),\n",
       "  'split4_test_score': array([0.31245514, 0.30166719, 0.29949538, 0.29945753]),\n",
       "  'mean_test_score': array([0.32445674, 0.31202898, 0.31092634, 0.31046594]),\n",
       "  'std_test_score': array([0.00790817, 0.00703754, 0.00782618, 0.00758829]),\n",
       "  'rank_test_score': array([1, 2, 3, 4], dtype=int32)},\n",
       " 'n_splits_': 5}"
      ]
     },
     "execution_count": 105,
     "metadata": {},
     "output_type": "execute_result"
    }
   ],
   "source": [
    "search.__dict__"
   ]
  },
  {
   "cell_type": "code",
   "execution_count": 115,
   "metadata": {},
   "outputs": [
    {
     "data": {
      "text/plain": [
       "0.40643639509424695"
      ]
     },
     "execution_count": 115,
     "metadata": {},
     "output_type": "execute_result"
    }
   ],
   "source": [
    "clf = XGBRegressor(n_estimators=30, objective=\"reg:squarederror\")\n",
    "clf.fit(X_train, y_train)\n",
    "predictions = clf.predict(X_val)\n",
    "error = mean_absolute_error(y_val, predictions)\n",
    "error"
   ]
  },
  {
   "cell_type": "code",
   "execution_count": 110,
   "metadata": {},
   "outputs": [
    {
     "name": "stdout",
     "output_type": "stream",
     "text": [
      "[11:44:24] WARNING: /home/conda/feedstock_root/build_artifacts/xgboost_1572314959925/work/src/objective/regression_obj.cu:152: reg:linear is now deprecated in favor of reg:squarederror.\n",
      "[11:44:34] WARNING: /home/conda/feedstock_root/build_artifacts/xgboost_1572314959925/work/src/objective/regression_obj.cu:152: reg:linear is now deprecated in favor of reg:squarederror.\n",
      "[11:44:45] WARNING: /home/conda/feedstock_root/build_artifacts/xgboost_1572314959925/work/src/objective/regression_obj.cu:152: reg:linear is now deprecated in favor of reg:squarederror.\n",
      "[11:44:55] WARNING: /home/conda/feedstock_root/build_artifacts/xgboost_1572314959925/work/src/objective/regression_obj.cu:152: reg:linear is now deprecated in favor of reg:squarederror.\n",
      "[11:45:06] WARNING: /home/conda/feedstock_root/build_artifacts/xgboost_1572314959925/work/src/objective/regression_obj.cu:152: reg:linear is now deprecated in favor of reg:squarederror.\n"
     ]
    },
    {
     "data": {
      "text/plain": [
       "array([0.37573253, 0.38217283, 0.36661058, 0.36651923, 0.36052447])"
      ]
     },
     "execution_count": 110,
     "metadata": {},
     "output_type": "execute_result"
    }
   ],
   "source": [
    "cross_val_score(Pipeline([('transformer', StandardScaler()),\n",
    "                         ('clf', XGBRegressor(n_estimators=30, objective=\"reg:squarederror\"))]), X, y, scoring=make_scorer(mean_absolute_error), cv=5)"
   ]
  },
  {
   "cell_type": "code",
   "execution_count": 79,
   "metadata": {},
   "outputs": [],
   "source": [
    "test_predictions = clf.predict(X_test)\n",
    "output = pd.DataFrame(columns=[\"Predicted\"])\n",
    "output[\"Id\"] = X_test.index\n",
    "output[\"Predicted\"] = test_predictions\n",
    "output.set_index(\"Id\", inplace=True)\n",
    "output.to_csv(\"res.csv\")"
   ]
  },
  {
   "cell_type": "code",
   "execution_count": 81,
   "metadata": {},
   "outputs": [
    {
     "data": {
      "text/plain": [
       "array([[<matplotlib.axes._subplots.AxesSubplot object at 0x7f0c341c8278>]],\n",
       "      dtype=object)"
      ]
     },
     "execution_count": 81,
     "metadata": {},
     "output_type": "execute_result"
    },
    {
     "data": {
      "image/png": "[encoded data removed]",
      "text/plain": [
       "<Figure size 432x288 with 1 Axes>"
      ]
     },
     "metadata": {
      "needs_background": "light"
     },
     "output_type": "display_data"
    }
   ],
   "source": [
    "output.hist()"
   ]
  }
 ],
 "metadata": {
  "kernelspec": {
   "display_name": "Python [conda env:aml] *",
   "language": "python",
   "name": "conda-env-aml-py"
  },
  "language_info": {
   "codemirror_mode": {
    "name": "ipython",
    "version": 3
   },
   "file_extension": ".py",
   "mimetype": "text/x-python",
   "name": "python",
   "nbconvert_exporter": "python",
   "pygments_lexer": "ipython3",
   "version": "3.6.9"
  }
 },
 "nbformat": 4,
 "nbformat_minor": 4
}
