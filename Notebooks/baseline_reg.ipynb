{
 "cells": [
  {
   "cell_type": "code",
   "execution_count": 4,
   "metadata": {},
   "outputs": [],
   "source": [
    "\n",
    "%reload_ext autoreload\n",
    "%autoreload 2\n",
    "import ast\n",
    "import pickle\n",
    "import itertools\n",
    "from collections import Counter\n",
    "from tqdm import tqdm\n",
    "import pandas as pd\n",
    "import os\n",
    "\n",
    "import numpy as np\n",
    "import matplotlib.pyplot as plt\n",
    "from mpl_toolkits.mplot3d import Axes3D\n",
    "import cv2\n",
    "import swifter\n",
    "\n",
    "import sys\n",
    "sys.path.append('..')\n",
    "from analysis.generate_cluster_information_file import load, extract_all_information_query, to_df_query\n",
    "from common.image_processing import pixel_intensity_histogram\n",
    "\n",
    "\n",
    "from sklearn.model_selection import cross_val_score\n",
    "from sklearn.ensemble import IsolationForest, RandomForestRegressor\n",
    "from sklearn.linear_model import LinearRegression\n",
    "from sklearn.svm import SVR\n",
    "from sklearn.neural_network import MLPRegressor\n",
    "from sklearn.metrics import mean_absolute_error, make_scorer\n",
    "# import xgboost\n",
    "from sklearn.ensemble import GradientBoostingRegressor\n",
    "from sklearn.neural_network import MLPRegressor\n",
    "from sklearn.feature_selection import mutual_info_regression\n",
    "from sklearn.feature_selection import SelectKBest\n",
    "from sklearn.preprocessing import StandardScaler\n",
    "from sklearn.model_selection import RandomizedSearchCV"
   ]
  },
  {
   "cell_type": "code",
   "execution_count": 14,
   "metadata": {},
   "outputs": [
    {
     "name": "stdout",
     "output_type": "stream",
     "text": [
      "   cluster_num\n",
      "0         50.0\n",
      "1        104.0\n",
      "2         71.0\n",
      "3         49.0\n",
      "4        169.0\n",
      "5         51.0\n",
      "6       2216.0\n",
      "7         66.0\n",
      "8      73732.0\n",
      "9         35.0\n"
     ]
    }
   ],
   "source": [
    "train_X = pd.read_csv('train_X.csv')\n",
    "train_y = pd.read_csv('train_y.csv')\n",
    "\n",
    "pd.to_numeric(train_X['cluster_num'])\n",
    "pd.to_numeric(train_X['cluster_num_intensities_avg'])\n",
    "pd.to_numeric(train_X['cluster_peak_intensities_avg'])\n",
    "pd.to_numeric(train_X['cluster_x_avg'])\n",
    "pd.to_numeric(train_X['cluster_y_avg'])\n",
    "\n",
    "train_X = train_X[['cluster_num']]\n",
    "print(train_X.head(10))\n",
    "\n",
    "scaler = StandardScaler()\n",
    "train_X = train_X.fillna(0)\n",
    "train_X_scaled = scaler.fit_transform(train_X)\n",
    "train_y_scaled = scaler.fit_transform(train_y)"
   ]
  },
  {
   "cell_type": "code",
   "execution_count": 13,
   "metadata": {},
   "outputs": [
    {
     "name": "stdout",
     "output_type": "stream",
     "text": [
      "Mean: 0.5470079355789131, Std Dev: 0.007756689915654611\n"
     ]
    }
   ],
   "source": [
    "randomforest = RandomForestRegressor(max_depth=6, random_state=0)\n",
    "\n",
    "score_mi = cross_val_score(randomforest, train_X_na_scaled, np.ravel(train_y_scaled), cv=5, scoring=make_scorer(mean_absolute_error))\n",
    "print(\"Mean: {}, Std Dev: {}\".format(score_mi.mean(), np.std(score_mi)))"
   ]
  },
  {
   "cell_type": "code",
   "execution_count": 15,
   "metadata": {},
   "outputs": [
    {
     "name": "stdout",
     "output_type": "stream",
     "text": [
      "Mean: 0.6320241650837227, Std Dev: 0.011360807620951699\n"
     ]
    }
   ],
   "source": [
    "linear_regression = LinearRegression(n_jobs=-1)\n",
    "score_mi = cross_val_score(linear_regression, train_X_na_scaled, np.ravel(train_y_scaled), cv=5, scoring=make_scorer(mean_absolute_error))\n",
    "print(\"Mean: {}, Std Dev: {}\".format(score_mi.mean(), np.std(score_mi)))"
   ]
  }
 ],
 "metadata": {
  "kernelspec": {
   "display_name": "Python 3",
   "language": "python",
   "name": "python3"
  },
  "language_info": {
   "codemirror_mode": {
    "name": "ipython",
    "version": 3
   },
   "file_extension": ".py",
   "mimetype": "text/x-python",
   "name": "python",
   "nbconvert_exporter": "python",
   "pygments_lexer": "ipython3",
   "version": "3.8.2"
  },
  "pycharm": {
   "stem_cell": {
    "cell_type": "raw",
    "source": [],
    "metadata": {
     "collapsed": false
    }
   }
  }
 },
 "nbformat": 4,
 "nbformat_minor": 4
}