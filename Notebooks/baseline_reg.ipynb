{
 "cells": [
  {
   "cell_type": "code",
   "execution_count": 2,
   "metadata": {},
   "outputs": [],
   "source": [
    "\n",
    "%reload_ext autoreload\n",
    "%autoreload 2\n",
    "import ast\n",
    "import pickle\n",
    "import itertools\n",
    "from collections import Counter\n",
    "from tqdm import tqdm\n",
    "import pandas as pd\n",
    "import os\n",
    "\n",
    "import numpy as np\n",
    "import matplotlib.pyplot as plt\n",
    "from mpl_toolkits.mplot3d import Axes3D\n",
    "import cv2\n",
    "import swifter\n",
    "\n",
    "import sys\n",
    "sys.path.append('..')\n",
    "from analysis.generate_cluster_information_file import load, extract_all_information_query, to_df_query\n",
    "from common.image_processing import pixel_intensity_histogram\n",
    "\n",
    "\n",
    "from sklearn.model_selection import cross_val_score\n",
    "from sklearn.ensemble import IsolationForest, RandomForestRegressor\n",
    "from sklearn.linear_model import LinearRegression\n",
    "from sklearn.svm import SVR\n",
    "from sklearn.neural_network import MLPRegressor\n",
    "from sklearn.metrics import mean_absolute_error, make_scorer\n",
    "# import xgboost\n",
    "from sklearn.ensemble import GradientBoostingRegressor\n",
    "from sklearn.neural_network import MLPRegressor\n",
    "from sklearn.feature_selection import mutual_info_regression\n",
    "from sklearn.feature_selection import SelectKBest\n",
    "from sklearn.preprocessing import StandardScaler\n",
    "from sklearn.model_selection import RandomizedSearchCV"
   ]
  },
  {
   "cell_type": "code",
   "execution_count": 23,
   "metadata": {},
   "outputs": [
    {
     "name": "stdout",
     "output_type": "stream",
     "text": [
      "(9599, 5)\n"
     ]
    },
    {
     "data": {
      "text/html": [
       "<div>\n",
       "<style scoped>\n",
       "    .dataframe tbody tr th:only-of-type {\n",
       "        vertical-align: middle;\n",
       "    }\n",
       "\n",
       "    .dataframe tbody tr th {\n",
       "        vertical-align: top;\n",
       "    }\n",
       "\n",
       "    .dataframe thead th {\n",
       "        text-align: right;\n",
       "    }\n",
       "</style>\n",
       "<table border=\"1\" class=\"dataframe\">\n",
       "  <thead>\n",
       "    <tr style=\"text-align: right;\">\n",
       "      <th></th>\n",
       "      <th>cluster_num</th>\n",
       "      <th>cluster_num_intensities_avg</th>\n",
       "      <th>cluster_peak_intensities_avg</th>\n",
       "      <th>cluster_x_avg</th>\n",
       "      <th>cluster_y_avg</th>\n",
       "    </tr>\n",
       "  </thead>\n",
       "  <tbody>\n",
       "    <tr>\n",
       "      <th>0</th>\n",
       "      <td>50.0</td>\n",
       "      <td>6.680000</td>\n",
       "      <td>14.920000</td>\n",
       "      <td>513.460000</td>\n",
       "      <td>475.320000</td>\n",
       "    </tr>\n",
       "    <tr>\n",
       "      <th>1</th>\n",
       "      <td>104.0</td>\n",
       "      <td>5.692308</td>\n",
       "      <td>11.375000</td>\n",
       "      <td>536.201923</td>\n",
       "      <td>473.798077</td>\n",
       "    </tr>\n",
       "    <tr>\n",
       "      <th>2</th>\n",
       "      <td>71.0</td>\n",
       "      <td>5.605634</td>\n",
       "      <td>11.563380</td>\n",
       "      <td>464.971831</td>\n",
       "      <td>513.746479</td>\n",
       "    </tr>\n",
       "    <tr>\n",
       "      <th>3</th>\n",
       "      <td>49.0</td>\n",
       "      <td>8.428571</td>\n",
       "      <td>22.612245</td>\n",
       "      <td>417.285714</td>\n",
       "      <td>564.571429</td>\n",
       "    </tr>\n",
       "    <tr>\n",
       "      <th>4</th>\n",
       "      <td>169.0</td>\n",
       "      <td>3.284024</td>\n",
       "      <td>6.621302</td>\n",
       "      <td>462.224852</td>\n",
       "      <td>509.230769</td>\n",
       "    </tr>\n",
       "    <tr>\n",
       "      <th>5</th>\n",
       "      <td>51.0</td>\n",
       "      <td>10.450980</td>\n",
       "      <td>26.921569</td>\n",
       "      <td>590.921569</td>\n",
       "      <td>492.352941</td>\n",
       "    </tr>\n",
       "    <tr>\n",
       "      <th>6</th>\n",
       "      <td>2216.0</td>\n",
       "      <td>3.131318</td>\n",
       "      <td>196.498195</td>\n",
       "      <td>433.569495</td>\n",
       "      <td>468.828520</td>\n",
       "    </tr>\n",
       "    <tr>\n",
       "      <th>7</th>\n",
       "      <td>66.0</td>\n",
       "      <td>6.409091</td>\n",
       "      <td>15.045455</td>\n",
       "      <td>450.257576</td>\n",
       "      <td>427.469697</td>\n",
       "    </tr>\n",
       "    <tr>\n",
       "      <th>8</th>\n",
       "      <td>73732.0</td>\n",
       "      <td>2.120314</td>\n",
       "      <td>17.661884</td>\n",
       "      <td>498.615499</td>\n",
       "      <td>497.128208</td>\n",
       "    </tr>\n",
       "    <tr>\n",
       "      <th>9</th>\n",
       "      <td>35.0</td>\n",
       "      <td>6.257143</td>\n",
       "      <td>14.171429</td>\n",
       "      <td>540.771429</td>\n",
       "      <td>514.942857</td>\n",
       "    </tr>\n",
       "  </tbody>\n",
       "</table>\n",
       "</div>"
      ],
      "text/plain": [
       "   cluster_num  cluster_num_intensities_avg  cluster_peak_intensities_avg  \\\n",
       "0         50.0                     6.680000                     14.920000   \n",
       "1        104.0                     5.692308                     11.375000   \n",
       "2         71.0                     5.605634                     11.563380   \n",
       "3         49.0                     8.428571                     22.612245   \n",
       "4        169.0                     3.284024                      6.621302   \n",
       "5         51.0                    10.450980                     26.921569   \n",
       "6       2216.0                     3.131318                    196.498195   \n",
       "7         66.0                     6.409091                     15.045455   \n",
       "8      73732.0                     2.120314                     17.661884   \n",
       "9         35.0                     6.257143                     14.171429   \n",
       "\n",
       "   cluster_x_avg  cluster_y_avg  \n",
       "0     513.460000     475.320000  \n",
       "1     536.201923     473.798077  \n",
       "2     464.971831     513.746479  \n",
       "3     417.285714     564.571429  \n",
       "4     462.224852     509.230769  \n",
       "5     590.921569     492.352941  \n",
       "6     433.569495     468.828520  \n",
       "7     450.257576     427.469697  \n",
       "8     498.615499     497.128208  \n",
       "9     540.771429     514.942857  "
      ]
     },
     "execution_count": 23,
     "metadata": {},
     "output_type": "execute_result"
    }
   ],
   "source": [
    "train_X = pd.read_csv('train_X.csv')\n",
    "train_y = pd.read_csv('train_y.csv')\n",
    "\n",
    "pd.to_numeric(train_X['cluster_num'])\n",
    "pd.to_numeric(train_X['cluster_num_intensities_avg'])\n",
    "pd.to_numeric(train_X['cluster_peak_intensities_avg'])\n",
    "pd.to_numeric(train_X['cluster_x_avg'])\n",
    "pd.to_numeric(train_X['cluster_y_avg'])\n",
    "\n",
    "na_indices = train_X[train_X.isna().any(axis=1)].index.values\n",
    "train_X.drop(na_indices, inplace=True)\n",
    "train_y.drop(na_indices, inplace=True)\n",
    "\n",
    "print(train_X.shape)\n",
    "train_X.head(10)"
   ]
  },
  {
   "cell_type": "code",
   "execution_count": 35,
   "metadata": {},
   "outputs": [],
   "source": [
    "def train_with_features(features):\n",
    "    assert len(features) > 0\n",
    "    assert type(features[0]) == str\n",
    "    \n",
    "    X = train_X[features]\n",
    "    scaler = StandardScaler()\n",
    "    X_scaled = scaler.fit_transform(X)\n",
    "    y_scaled = scaler.fit_transform(train_y)\n",
    "    \n",
    "    randomforest = RandomForestRegressor(max_depth=6, random_state=0)\n",
    "\n",
    "    score_mi = cross_val_score(randomforest, X_scaled, np.ravel(y_scaled), cv=5, scoring=make_scorer(mean_absolute_error))\n",
    "    print(\"Mean: {}, Std Dev: {}\".format(score_mi.mean(), np.std(score_mi)))"
   ]
  },
  {
   "cell_type": "code",
   "execution_count": 36,
   "metadata": {},
   "outputs": [
    {
     "name": "stdout",
     "output_type": "stream",
     "text": [
      "Mean: 0.6488447391468939, Std Dev: 0.010385121122722645\n"
     ]
    }
   ],
   "source": [
    "train_with_features(['cluster_num'])"
   ]
  },
  {
   "cell_type": "code",
   "execution_count": 37,
   "metadata": {},
   "outputs": [
    {
     "name": "stdout",
     "output_type": "stream",
     "text": [
      "Mean: 0.6965943964912368, Std Dev: 0.00942424878893548\n"
     ]
    }
   ],
   "source": [
    "train_with_features(['cluster_num_intensities_avg'])"
   ]
  },
  {
   "cell_type": "code",
   "execution_count": 38,
   "metadata": {},
   "outputs": [
    {
     "name": "stdout",
     "output_type": "stream",
     "text": [
      "Mean: 0.6354252098067206, Std Dev: 0.013436356146284424\n"
     ]
    }
   ],
   "source": [
    "train_with_features(['cluster_peak_intensities_avg'])"
   ]
  }
 ],
 "metadata": {
  "kernelspec": {
   "display_name": "Python 3",
   "language": "python",
   "name": "python3"
  },
  "language_info": {
   "codemirror_mode": {
    "name": "ipython",
    "version": 3
   },
   "file_extension": ".py",
   "mimetype": "text/x-python",
   "name": "python",
   "nbconvert_exporter": "python",
   "pygments_lexer": "ipython3",
   "version": "3.8.2"
  },
  "pycharm": {
   "stem_cell": {
    "cell_type": "raw",
    "metadata": {
     "collapsed": false
    },
    "source": []
   }
  }
 },
 "nbformat": 4,
 "nbformat_minor": 4
}
